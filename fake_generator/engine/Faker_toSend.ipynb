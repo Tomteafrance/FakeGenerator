{
 "cells": [
  {
   "cell_type": "code",
   "execution_count": 1,
   "id": "bf1575ac-0955-45e3-aad3-88ac39f3ea81",
   "metadata": {
    "tags": []
   },
   "outputs": [],
   "source": [
    "import io\n",
    "import time\n",
    "import json\n",
    "import datetime as dt\n",
    "import csv\n",
    "import random\n",
    "from random import randint\n",
    "import numpy as np \n",
    "import pandas as pd \n",
    "from faker import Faker\n",
    "from faker.providers import BaseProvider\n",
    "from sdg_ml.config.sdg_conf import SdgConf\n",
    "from sdg_ml.connector.s3_connector import S3Connector"
   ]
  },
  {
   "cell_type": "code",
   "execution_count": 2,
   "id": "009a5c1a-ac78-49d4-8f0f-60dd08a606e9",
   "metadata": {},
   "outputs": [],
   "source": [
    "import warnings\n",
    "warnings.filterwarnings(\"ignore\")"
   ]
  },
  {
   "cell_type": "markdown",
   "id": "80a234a8-0ecb-4355-b1b0-618e861f149e",
   "metadata": {},
   "source": [
    "### S3 Connector Conf"
   ]
  },
  {
   "cell_type": "code",
   "execution_count": 3,
   "id": "65380fce-e6e4-4dd9-a5eb-a825f0ed37b0",
   "metadata": {
    "tags": []
   },
   "outputs": [],
   "source": [
    "sdg_conf = SdgConf(\"/home/cloud-user/a495587/scripts/s3_connector/test_config_s3.json\")"
   ]
  },
  {
   "cell_type": "code",
   "execution_count": 4,
   "id": "d7018807-9ff7-470c-a927-718cc52817e2",
   "metadata": {
    "tags": []
   },
   "outputs": [],
   "source": [
    "s3_connector = S3Connector(sdg_conf)"
   ]
  },
  {
   "cell_type": "markdown",
   "id": "43d16e38-659d-4dd8-8def-5864916c99d9",
   "metadata": {},
   "source": [
    "### Read Data"
   ]
  },
  {
   "cell_type": "code",
   "execution_count": 5,
   "id": "2cb59cf1-4717-4bda-91a7-b47fa72c3aff",
   "metadata": {
    "tags": []
   },
   "outputs": [],
   "source": [
    "def read_parquet(s3_connector, path):\n",
    "    s3_client = s3_connector.get_client()\n",
    "    object_as_bytes = s3_client.get_object(Bucket=s3_connector._sdg_conf._s3_bucket, Key=path)\n",
    "    return pd.read_parquet(io.BytesIO(object_as_bytes['Body'].read()))"
   ]
  },
  {
   "cell_type": "code",
   "execution_count": 6,
   "id": "83665bd9-2228-450b-95d4-c8d858295c95",
   "metadata": {
    "tags": []
   },
   "outputs": [],
   "source": [
    "def read_csv_clean(s3_connector, path):\n",
    "    s3_client = s3_connector.get_client()\n",
    "    object_as_bytes = s3_client.get_object(Bucket=s3_connector._sdg_conf._s3_bucket, Key=path)\n",
    "    return pd.read_csv(io.BytesIO(object_as_bytes['Body'].read()), escapechar = '\\\\', on_bad_lines='skip', quoting=csv.QUOTE_NONE, engine ='python')"
   ]
  },
  {
   "cell_type": "code",
   "execution_count": 7,
   "id": "2c845c71-5b4d-4652-a48b-39c655f0f04a",
   "metadata": {
    "tags": []
   },
   "outputs": [],
   "source": [
    "def read_json(s3_connector, path):\n",
    "    s3_client = s3_connector.get_client()\n",
    "    object_as_bytes = s3_client.get_object(Bucket=s3_connector._sdg_conf._s3_bucket, Key=path)\n",
    "    return pd.read_json(io.BytesIO(object_as_bytes['Body'].read()), lines = True)"
   ]
  },
  {
   "cell_type": "markdown",
   "id": "ac5e0f66-783e-4bfc-b4fb-681bd5aed69d",
   "metadata": {},
   "source": [
    "### Get Multi Data"
   ]
  },
  {
   "cell_type": "code",
   "execution_count": 8,
   "id": "ebc6f224-d159-4a62-a67a-8423739b33f5",
   "metadata": {
    "tags": []
   },
   "outputs": [],
   "source": [
    "tracking_id = 'gtps_fccr_model'\n",
    "original_path = f\"a495587/original_data/original_{tracking_id}/\"\n",
    "original_file_list = s3_connector.list_objects(original_path)\n",
    "list_format = ['orc', 'parquet']"
   ]
  },
  {
   "cell_type": "code",
   "execution_count": 9,
   "id": "9274aacd-b48d-45c0-a33a-2ceface9e1cc",
   "metadata": {
    "tags": []
   },
   "outputs": [
    {
     "name": "stdout",
     "output_type": "stream",
     "text": [
      "a495587/original_data/original_gtps_fccr_model/bd_dd_remittance_paidin/data/int_bd_dd_remittance_paidin.orc\n",
      "bd_dd_remittance_paidin\n",
      "a495587/original_data/original_gtps_fccr_model/bd_party_details_paidin/data/int_bd_party_details_paidin.orc\n",
      "bd_party_details_paidin\n",
      "a495587/original_data/original_gtps_fccr_model/bd_party_details_paidout/data/int_bd_party_details_paid_out.orc\n",
      "bd_party_details_paidout\n",
      "a495587/original_data/original_gtps_fccr_model/bd_account/data/bd_account.parquet\n",
      "bd_account\n",
      "a495587/original_data/original_gtps_fccr_model/bd_bpmainonscreen/data/int_bd_bpmainonscreen.parquet\n",
      "bd_bpmainonscreen\n",
      "a495587/original_data/original_gtps_fccr_model/bd_communication_address/data/int_bd_communication_address.parquet\n",
      "bd_communication_address\n",
      "a495587/original_data/original_gtps_fccr_model/bd_dd_paidout/data/dd_paid_out.parquet\n",
      "bd_dd_paidout\n",
      "a495587/original_data/original_gtps_fccr_model/bd_transfer_remittance/data/transfer_remittance.parquet\n",
      "bd_transfer_remittance\n",
      "a495587/original_data/original_gtps_fccr_model/rd_fccr_clear_system/data/int_rd_fccr_clear_system.parquet\n",
      "rd_fccr_clear_system\n"
     ]
    }
   ],
   "source": [
    "real_data_dict = {}\n",
    "for format in list_format:\n",
    "    list_file = list(filter(lambda a : format in a, original_file_list))\n",
    "    for data_path in list_file:\n",
    "        print(data_path)\n",
    "        print(data_path.split('/')[3])\n",
    "        table_name = data_path.split('/')[3]\n",
    "        if format == 'orc':\n",
    "            data = s3_connector.read_orc(data_path)\n",
    "        elif format == 'parquet':\n",
    "            data = read_parquet(s3_connector, data_path)\n",
    "        \n",
    "        real_data_dict[table_name] = data"
   ]
  },
  {
   "cell_type": "code",
   "execution_count": 10,
   "id": "554ed36e-5c4d-449e-8e3f-12439685ddd3",
   "metadata": {
    "tags": []
   },
   "outputs": [
    {
     "name": "stdout",
     "output_type": "stream",
     "text": [
      "bd_dd_remittance_paidin shape : (4771903, 134)\n",
      "bd_party_details_paidin shape : (10441388, 26)\n",
      "bd_party_details_paidout shape : (10495888, 26)\n",
      "bd_account shape : (416197, 94)\n",
      "bd_bpmainonscreen shape : (6968328, 86)\n",
      "bd_communication_address shape : (1357, 5)\n",
      "bd_dd_paidout shape : (2547025, 96)\n",
      "bd_transfer_remittance shape : (1867673, 368)\n",
      "rd_fccr_clear_system shape : (18, 3)\n"
     ]
    }
   ],
   "source": [
    "for table_name, data in real_data_dict.items():\n",
    "    print(f'{table_name} shape : {data.shape}')"
   ]
  },
  {
   "cell_type": "code",
   "execution_count": 11,
   "id": "e1f4db0b-d4b1-4a9c-b7fe-2a687f8d37f1",
   "metadata": {
    "tags": []
   },
   "outputs": [],
   "source": [
    "def drop_fullna(data):\n",
    "    \"\"\" Drop columns with full missing values\n",
    "    Args:\n",
    "        data (pandas.DataFrame)\n",
    "            data \n",
    "    Returns:\n",
    "        data (pandas.DataFrame)\n",
    "            data without columns with full missing values\n",
    "    \"\"\"\n",
    "    col_to_drop = []\n",
    "    for col in list(data.columns):\n",
    "        if data.isnull().sum()[col] == len(data):\n",
    "            col_to_drop.append(col)\n",
    "    data = data.drop(columns=col_to_drop)\n",
    "    return data"
   ]
  },
  {
   "cell_type": "markdown",
   "id": "656b34f5-9b2d-4cfc-9614-bea5ab7dccde",
   "metadata": {},
   "source": [
    "### Anonymisation"
   ]
  },
  {
   "cell_type": "code",
   "execution_count": 12,
   "id": "447a7115-88df-4623-a02c-e334c59cb7b2",
   "metadata": {
    "tags": []
   },
   "outputs": [],
   "source": [
    "def random_with_N_digits(n):\n",
    "    range_start = 10**(n-1)\n",
    "    range_end = (10**n)-1\n",
    "    return randint(range_start, range_end)"
   ]
  },
  {
   "cell_type": "code",
   "execution_count": 13,
   "id": "a5c8b495-2bea-4120-9239-5fa77b9ff863",
   "metadata": {
    "tags": []
   },
   "outputs": [],
   "source": [
    "class CustomProvider:\n",
    "    @classmethod\n",
    "    def bdr_id(cls):\n",
    "        faker = Faker()\n",
    "        return faker.pystr_format(\"#########{{random_int}}\") \n",
    "\n",
    "    @classmethod\n",
    "    def iban_number(cls):\n",
    "        faker = Faker()\n",
    "        fake_iban = faker.country_code() + str(random_with_N_digits(2)) + faker.pystr(max_chars = 4).upper() + str(random_with_N_digits(6)) + str(random_with_N_digits(8))\n",
    "        return fake_iban.upper() \n",
    "    \n",
    "    @classmethod\n",
    "    def id_class(cls):\n",
    "        faker = Faker()\n",
    "        return faker.pystr_format(\"#####{{random_int}}\") \n",
    "    \n",
    "    @classmethod\n",
    "    def account_currency(cls):\n",
    "        faker = Faker()\n",
    "        return faker.pystr(max_chars = 3).upper()\n",
    "\n",
    "    @classmethod\n",
    "    def ten_letters(cls):\n",
    "        faker = Faker()\n",
    "        return faker.pystr(max_chars = 10).upper()\n",
    "    \n",
    "    @classmethod\n",
    "    def two_letters(cls):\n",
    "        faker = Faker()\n",
    "        return faker.pystr(max_chars = 2).upper()\n",
    "    \n",
    "    @classmethod\n",
    "    def one_letter(cls):\n",
    "        faker = Faker()\n",
    "        return faker.pystr(max_chars = 1).upper()\n",
    "    \n",
    "    @classmethod\n",
    "    def num_compte(cls):\n",
    "        faker = Faker()\n",
    "        return faker.country_code() + str(random_with_N_digits(25))"
   ]
  },
  {
   "cell_type": "code",
   "execution_count": 14,
   "id": "9038f940-9195-4d91-b70a-bbdde7643f3f",
   "metadata": {
    "tags": []
   },
   "outputs": [],
   "source": [
    "def anonymizer(data, list_anonymised_dict):\n",
    "    \"\"\"\n",
    "    Args:\n",
    "        data (pandas.DataFrame)\n",
    "            dataframe to anonymise\n",
    "        list_anonymised_dict (list of dictionary)\n",
    "            list of dictionary containing key as columns to anonymise & value as Faker category\n",
    "    Returns:\n",
    "        data (pandas.DataFrame)\n",
    "            dataframe anonymised\n",
    "        mapping (dictionary)\n",
    "            mapping containing key as original value & value as anonymised value\n",
    "    \"\"\"\n",
    "    mapping = {}\n",
    "    for anonymised_dict in list_anonymised_dict:\n",
    "        category = anonymised_dict['category']\n",
    "        for col in anonymised_dict['col']:\n",
    "            faker_unique_list = []\n",
    "            unique_value = list((data[col]).unique())\n",
    "            faker = Faker()\n",
    "            faker.add_provider(CustomProvider())\n",
    "            for i in range(len(unique_value)): \n",
    "                faker_unique_list.append(getattr(faker.unique, category)())\n",
    "            mapping_anonymised = dict(zip(unique_value, faker_unique_list))\n",
    "            mapping[col] = mapping_anonymised\n",
    "            data[col] = data[col].map(mapping_anonymised)\n",
    "    return data, mapping"
   ]
  },
  {
   "cell_type": "code",
   "execution_count": 15,
   "id": "1b89c1af-6c1e-4793-a93e-8afb5b1a2138",
   "metadata": {
    "tags": []
   },
   "outputs": [],
   "source": [
    "def anonymizer_multi(data_dict, anonymised_list):\n",
    "    \"\"\"\n",
    "    Args:\n",
    "        data_dict (dictionary of pandas.DataFrame)\n",
    "            dictionary of dataframe to anonymise\n",
    "        anonymised_list (list of dictionary)\n",
    "            list of dictionary containing key as columns to anonymise & value as Faker category\n",
    "    Returns:\n",
    "        data (pandas.DataFrame)\n",
    "            dataframe anonymised\n",
    "    \"\"\"\n",
    "    mapping_multi = {}\n",
    "    for table_name in data_dict:\n",
    "        mapping_multi[table_name] = {}\n",
    "    for anonymised_dict in anonymised_list:\n",
    "        faker = Faker()\n",
    "        faker.add_provider(CustomProvider())        \n",
    "        for col in anonymised_dict['col']:\n",
    "            print('col', col)\n",
    "            unique_value = []\n",
    "            faker_unique_list = []\n",
    "            for table_name in anonymised_dict['table_name_list']:\n",
    "                print('table', table_name)\n",
    "                unique_value += list((data_dict[table_name][col]).unique())\n",
    "\n",
    "                for i in range(len(unique_value)): \n",
    "                    faker_unique_list.append(getattr(faker.unique, anonymised_dict['category'])())\n",
    "            \n",
    "            mapping_anonymised = dict(zip(unique_value, faker_unique_list))\n",
    "            for table_name in anonymised_dict['table_name_list']:\n",
    "                mapping_multi[table_name][col] = mapping_anonymised\n",
    "                data_dict[table_name][col] = data_dict[table_name][col].map(mapping_anonymised)\n",
    "    return data_dict, mapping_multi "
   ]
  },
  {
   "cell_type": "code",
   "execution_count": 16,
   "id": "8051e9c4-ad02-4d4f-9571-b283f8f1a3ca",
   "metadata": {},
   "outputs": [],
   "source": [
    "def anonymizer_iban_prepro(data, list_col):\n",
    "    \"\"\"\n",
    "    Args:\n",
    "        data (pandas.DataFrame)\n",
    "        list_col (list of string)\n",
    "            list of col to anonymize\n",
    "    Returns:\n",
    "        data anonymized (pandas.DataFrame)\n",
    "    \"\"\"\n",
    "    for col in list_col:\n",
    "        print('col', col)\n",
    "        data[f'{col}_2_letters'] = data[col].str[:2]\n",
    "        \n",
    "    return data "
   ]
  },
  {
   "cell_type": "code",
   "execution_count": 17,
   "id": "543b6586-4e06-4370-83e0-5713ff49157f",
   "metadata": {},
   "outputs": [],
   "source": [
    "def anonymizer_iban_post(data, list_col):\n",
    "    \"\"\"\n",
    "    Args:\n",
    "        data (pandas.DataFrame)\n",
    "        list_col (list of string)\n",
    "            list of col to anonymize\n",
    "    Returns:\n",
    "        data anonymized (pandas.DataFrame)\n",
    "    \"\"\"\n",
    "    for col in list_col:\n",
    "        print('col', col)\n",
    "        data[f'{col}_new'] = data[col]\n",
    "        data = data.drop(columns = [col])\n",
    "        data[col] = data[f'{col}_2_letters'] + data[f'{col}_new'].str[2:]\n",
    "        print('Dropping col')\n",
    "        data = data.drop(columns = [f'{col}_2_letters', f'{col}_new'])\n",
    "    return data "
   ]
  },
  {
   "cell_type": "markdown",
   "id": "9f7cbd77-be2c-47b1-be66-3fc8909f1c03",
   "metadata": {},
   "source": [
    "### Convert float to int type columns"
   ]
  },
  {
   "cell_type": "code",
   "execution_count": 18,
   "id": "05dcec36-7283-4bf9-a7ab-cf444d65a0b4",
   "metadata": {},
   "outputs": [],
   "source": [
    "def clear_float_columns(data):\n",
    "    \"\"\"\n",
    "    Args: \n",
    "        data (pandas.DataFrame)\n",
    "    Returns:\n",
    "        data with float columns convert to int \n",
    "    \"\"\"\n",
    "    list_col_float = list(data.select_dtypes(include=['float64']).columns)\n",
    "    try:\n",
    "        for col in list_col_float:\n",
    "            data[col] = data[col].astype('Int64', errors = 'ignore')\n",
    "            pass\n",
    "    except:\n",
    "        pass\n",
    "    return data"
   ]
  },
  {
   "cell_type": "markdown",
   "id": "a6c34e32-fd67-4723-81c0-07260a214eb6",
   "metadata": {},
   "source": [
    "## Columns to Anonymised"
   ]
  },
  {
   "cell_type": "markdown",
   "id": "d642223b-857f-4319-b4ce-bf8289d5ab93",
   "metadata": {},
   "source": [
    "**PS :** rajouter le temps d'anonymisation pour chaque table "
   ]
  },
  {
   "cell_type": "code",
   "execution_count": 19,
   "id": "3fcf9281-1709-4d56-84e9-96a9d99f75ca",
   "metadata": {},
   "outputs": [
    {
     "data": {
      "text/plain": [
       "dict_keys(['bd_dd_remittance_paidin', 'bd_party_details_paidin', 'bd_party_details_paidout', 'bd_account', 'bd_bpmainonscreen', 'bd_communication_address', 'bd_dd_paidout', 'bd_transfer_remittance', 'rd_fccr_clear_system'])"
      ]
     },
     "execution_count": 19,
     "metadata": {},
     "output_type": "execute_result"
    }
   ],
   "source": [
    "real_data_dict.keys()"
   ]
  },
  {
   "cell_type": "code",
   "execution_count": 20,
   "id": "0f4b58a1-5aeb-44d2-8d92-cfa22a6efb27",
   "metadata": {},
   "outputs": [
    {
     "data": {
      "text/plain": [
       "operational_unit         0\n",
       "pos_id                   0\n",
       "sub_account_id           0\n",
       "account_type             0\n",
       "account_usage            0\n",
       "                     ...  \n",
       "van_applcbtly       332755\n",
       "neg_cr_intrst       332755\n",
       "neg_dr_intrst       332755\n",
       "acnt_clsr_rsn       416197\n",
       "dt                       0\n",
       "Length: 94, dtype: int64"
      ]
     },
     "execution_count": 20,
     "metadata": {},
     "output_type": "execute_result"
    }
   ],
   "source": [
    "real_data_dict['bd_account'].isnull().sum()"
   ]
  },
  {
   "cell_type": "code",
   "execution_count": 21,
   "id": "78421fde-3865-4e7a-a60e-9f9de6638143",
   "metadata": {},
   "outputs": [
    {
     "data": {
      "text/plain": [
       "(10495888, 26)"
      ]
     },
     "execution_count": 21,
     "metadata": {},
     "output_type": "execute_result"
    }
   ],
   "source": [
    "real_data_dict['bd_party_details_paidout'].shape"
   ]
  },
  {
   "cell_type": "code",
   "execution_count": 22,
   "id": "ead2a5ac-0550-45da-82f3-5c85d5ff325f",
   "metadata": {},
   "outputs": [
    {
     "data": {
      "text/plain": [
       "10495888"
      ]
     },
     "execution_count": 22,
     "metadata": {},
     "output_type": "execute_result"
    }
   ],
   "source": [
    "real_data_dict['bd_party_details_paidout']['party_adrs_frmt'].isnull().sum()"
   ]
  },
  {
   "cell_type": "markdown",
   "id": "e492c981-15e6-4890-9377-38dbf841a8a6",
   "metadata": {},
   "source": [
    "### 0) Columns with relationship \n",
    "\n",
    "- bd_account.iban_number = remittance_paidin.account\n",
    "- bd_account.external_reference_1 = remittance_paidin.debtor_account\n",
    "- bd_account.iban_number = bd_dd_paidout.pos_id"
   ]
  },
  {
   "cell_type": "markdown",
   "id": "23455db5-b54e-44d4-9ef1-13a7724111c3",
   "metadata": {},
   "source": [
    "### 1) Int_bd_account \n",
    "\n",
    "- bdr_id -> Custom by format\n",
    "- iban_number -> Country\n",
    "- account_name -> Company Name \n",
    "\n",
    "**No Need:**\n",
    "- account_currency -> 3 Random Lettersm\r\n",
    "\n"
   ]
  },
  {
   "cell_type": "markdown",
   "id": "4a5257ee-bfc0-475b-be52-533a43ea8e9e",
   "metadata": {},
   "source": [
    "### Review \n",
    "•\tThe following columns appear to be floating numbers but should be int: account_manager, deputy_manager, fee_package, van_applcbtly, neg_cr_intrst, neg_dr_intrst, technical_nostro, and maybe multiple others => Tom\n",
    "\n",
    "•\tThe following columns appear to be floating numbers but should be strings: bban_bank_code, webclear_account_number, and maybe multiple others => Tom\n",
    "\n",
    "•\taccount_description and remark columns seems to contain indentifiable information and should be anonymized => Shivani and Samar please confirm\n",
    "\n",
    "•\texternal_reference_2 seems to be an IBAN and should be anonymized => Shivani and Samar please confirm\n"
   ]
  },
  {
   "cell_type": "code",
   "execution_count": 23,
   "id": "bad94282-bdfe-49c8-bd36-7d3b9217ab67",
   "metadata": {
    "tags": []
   },
   "outputs": [],
   "source": [
    "list_bdr_id_account_anonym = [\n",
    "'bdr_id',\n",
    "]"
   ]
  },
  {
   "cell_type": "code",
   "execution_count": 24,
   "id": "d66d3a50-f22d-4067-bd76-74ec66aaf74e",
   "metadata": {},
   "outputs": [],
   "source": [
    "list_company_name_account_anonym = [\n",
    "'account_name',\n",
    "]"
   ]
  },
  {
   "cell_type": "code",
   "execution_count": 25,
   "id": "37a989c9-873d-49d3-84c4-3da045a57249",
   "metadata": {},
   "outputs": [],
   "source": [
    "list_iban_account_anonym = [\n",
    "#'iban_number',\n",
    "'external_reference_2', \n",
    "#'external_reference_1',\n",
    "]"
   ]
  },
  {
   "cell_type": "code",
   "execution_count": 26,
   "id": "cd7371a3-233b-4a1b-b52f-0b370ad06ad7",
   "metadata": {},
   "outputs": [],
   "source": [
    "list_ten_letters_account_anonym = [\n",
    "'remark', \n",
    "'account_description',\n",
    "]"
   ]
  },
  {
   "cell_type": "code",
   "execution_count": 27,
   "id": "448b0235-fc22-4cd5-91b0-c72577f482a9",
   "metadata": {
    "tags": []
   },
   "outputs": [],
   "source": [
    "bd_account = real_data_dict['bd_account']"
   ]
  },
  {
   "cell_type": "code",
   "execution_count": 28,
   "id": "9fccbf77-8b90-4a1b-810b-c1a0f4fb102f",
   "metadata": {},
   "outputs": [],
   "source": [
    "list_col_object_bd_account = list(bd_account.select_dtypes(include=['object']).columns)"
   ]
  },
  {
   "cell_type": "code",
   "execution_count": 29,
   "id": "ded4607e-5dd9-40ec-a22f-e28bdb69a76e",
   "metadata": {},
   "outputs": [],
   "source": [
    "for col in list_col_object_bd_account:\n",
    "    bd_account[col] = bd_account[col].replace('nan', None)"
   ]
  },
  {
   "cell_type": "code",
   "execution_count": 30,
   "id": "46a85092-e5f7-4387-a5c3-27832e24d55f",
   "metadata": {},
   "outputs": [
    {
     "data": {
      "text/html": [
       "<div>\n",
       "<style scoped>\n",
       "    .dataframe tbody tr th:only-of-type {\n",
       "        vertical-align: middle;\n",
       "    }\n",
       "\n",
       "    .dataframe tbody tr th {\n",
       "        vertical-align: top;\n",
       "    }\n",
       "\n",
       "    .dataframe thead th {\n",
       "        text-align: right;\n",
       "    }\n",
       "</style>\n",
       "<table border=\"1\" class=\"dataframe\">\n",
       "  <thead>\n",
       "    <tr style=\"text-align: right;\">\n",
       "      <th></th>\n",
       "      <th>operational_unit</th>\n",
       "      <th>pos_id</th>\n",
       "      <th>sub_account_id</th>\n",
       "      <th>account_type</th>\n",
       "      <th>account_usage</th>\n",
       "      <th>account_status</th>\n",
       "      <th>account_currency</th>\n",
       "      <th>product_type</th>\n",
       "      <th>instrument</th>\n",
       "      <th>business_partner_id</th>\n",
       "      <th>...</th>\n",
       "      <th>cti_account_type</th>\n",
       "      <th>entity_code</th>\n",
       "      <th>local_curr_code</th>\n",
       "      <th>root_code</th>\n",
       "      <th>lead_acnt_num</th>\n",
       "      <th>van_applcbtly</th>\n",
       "      <th>neg_cr_intrst</th>\n",
       "      <th>neg_dr_intrst</th>\n",
       "      <th>acnt_clsr_rsn</th>\n",
       "      <th>dt</th>\n",
       "    </tr>\n",
       "  </thead>\n",
       "  <tbody>\n",
       "    <tr>\n",
       "      <th>0</th>\n",
       "      <td>GSOCGZURCH</td>\n",
       "      <td>1327</td>\n",
       "      <td>1</td>\n",
       "      <td>Cash</td>\n",
       "      <td>General</td>\n",
       "      <td>Active</td>\n",
       "      <td>CHF</td>\n",
       "      <td>None</td>\n",
       "      <td>Cash Account - Corporate</td>\n",
       "      <td>154</td>\n",
       "      <td>...</td>\n",
       "      <td>NaN</td>\n",
       "      <td>NaN</td>\n",
       "      <td>NaN</td>\n",
       "      <td>NaN</td>\n",
       "      <td>None</td>\n",
       "      <td>NaN</td>\n",
       "      <td>NaN</td>\n",
       "      <td>NaN</td>\n",
       "      <td>NaN</td>\n",
       "      <td>20190403</td>\n",
       "    </tr>\n",
       "    <tr>\n",
       "      <th>1</th>\n",
       "      <td>GSOCGZURCH</td>\n",
       "      <td>1557</td>\n",
       "      <td>1</td>\n",
       "      <td>Cash</td>\n",
       "      <td>General</td>\n",
       "      <td>Active</td>\n",
       "      <td>EUR</td>\n",
       "      <td>None</td>\n",
       "      <td>Cash Account - Corporate</td>\n",
       "      <td>214</td>\n",
       "      <td>...</td>\n",
       "      <td>NaN</td>\n",
       "      <td>NaN</td>\n",
       "      <td>NaN</td>\n",
       "      <td>NaN</td>\n",
       "      <td>None</td>\n",
       "      <td>NaN</td>\n",
       "      <td>NaN</td>\n",
       "      <td>NaN</td>\n",
       "      <td>NaN</td>\n",
       "      <td>20190403</td>\n",
       "    </tr>\n",
       "    <tr>\n",
       "      <th>2</th>\n",
       "      <td>GSOCGZURCH</td>\n",
       "      <td>1558</td>\n",
       "      <td>1</td>\n",
       "      <td>Cash</td>\n",
       "      <td>General</td>\n",
       "      <td>Active</td>\n",
       "      <td>CHF</td>\n",
       "      <td>None</td>\n",
       "      <td>Cash Account - Corporate</td>\n",
       "      <td>214</td>\n",
       "      <td>...</td>\n",
       "      <td>NaN</td>\n",
       "      <td>NaN</td>\n",
       "      <td>NaN</td>\n",
       "      <td>NaN</td>\n",
       "      <td>None</td>\n",
       "      <td>NaN</td>\n",
       "      <td>NaN</td>\n",
       "      <td>NaN</td>\n",
       "      <td>NaN</td>\n",
       "      <td>20190403</td>\n",
       "    </tr>\n",
       "    <tr>\n",
       "      <th>3</th>\n",
       "      <td>GSOCGZURCH</td>\n",
       "      <td>1425</td>\n",
       "      <td>1</td>\n",
       "      <td>Cash</td>\n",
       "      <td>General</td>\n",
       "      <td>Active</td>\n",
       "      <td>CHF</td>\n",
       "      <td>None</td>\n",
       "      <td>Cash Account - Corporate</td>\n",
       "      <td>315</td>\n",
       "      <td>...</td>\n",
       "      <td>NaN</td>\n",
       "      <td>NaN</td>\n",
       "      <td>NaN</td>\n",
       "      <td>NaN</td>\n",
       "      <td>None</td>\n",
       "      <td>NaN</td>\n",
       "      <td>NaN</td>\n",
       "      <td>NaN</td>\n",
       "      <td>NaN</td>\n",
       "      <td>20190403</td>\n",
       "    </tr>\n",
       "    <tr>\n",
       "      <th>4</th>\n",
       "      <td>GSOCGZURCH</td>\n",
       "      <td>957</td>\n",
       "      <td>1</td>\n",
       "      <td>Cash</td>\n",
       "      <td>Vostro</td>\n",
       "      <td>Active</td>\n",
       "      <td>CHF</td>\n",
       "      <td>None</td>\n",
       "      <td>Cash Account - Bank</td>\n",
       "      <td>55</td>\n",
       "      <td>...</td>\n",
       "      <td>NaN</td>\n",
       "      <td>NaN</td>\n",
       "      <td>NaN</td>\n",
       "      <td>NaN</td>\n",
       "      <td>None</td>\n",
       "      <td>NaN</td>\n",
       "      <td>NaN</td>\n",
       "      <td>NaN</td>\n",
       "      <td>NaN</td>\n",
       "      <td>20190403</td>\n",
       "    </tr>\n",
       "    <tr>\n",
       "      <th>...</th>\n",
       "      <td>...</td>\n",
       "      <td>...</td>\n",
       "      <td>...</td>\n",
       "      <td>...</td>\n",
       "      <td>...</td>\n",
       "      <td>...</td>\n",
       "      <td>...</td>\n",
       "      <td>...</td>\n",
       "      <td>...</td>\n",
       "      <td>...</td>\n",
       "      <td>...</td>\n",
       "      <td>...</td>\n",
       "      <td>...</td>\n",
       "      <td>...</td>\n",
       "      <td>...</td>\n",
       "      <td>...</td>\n",
       "      <td>...</td>\n",
       "      <td>...</td>\n",
       "      <td>...</td>\n",
       "      <td>...</td>\n",
       "      <td>...</td>\n",
       "    </tr>\n",
       "    <tr>\n",
       "      <th>416192</th>\n",
       "      <td>GSOCGNLAMS</td>\n",
       "      <td>111950</td>\n",
       "      <td>1</td>\n",
       "      <td>Cash</td>\n",
       "      <td>Vostro</td>\n",
       "      <td>Active</td>\n",
       "      <td>AED</td>\n",
       "      <td>None</td>\n",
       "      <td>Cash Account - Business Line</td>\n",
       "      <td>16736</td>\n",
       "      <td>...</td>\n",
       "      <td>NaN</td>\n",
       "      <td>NaN</td>\n",
       "      <td>NaN</td>\n",
       "      <td>NaN</td>\n",
       "      <td>None</td>\n",
       "      <td>NaN</td>\n",
       "      <td>NaN</td>\n",
       "      <td>NaN</td>\n",
       "      <td>NaN</td>\n",
       "      <td>20191023</td>\n",
       "    </tr>\n",
       "    <tr>\n",
       "      <th>416193</th>\n",
       "      <td>GSOCGESMAD</td>\n",
       "      <td>2113</td>\n",
       "      <td>1</td>\n",
       "      <td>Cash</td>\n",
       "      <td>Vostro</td>\n",
       "      <td>Active</td>\n",
       "      <td>EUR</td>\n",
       "      <td>None</td>\n",
       "      <td>Cash Account - Bank</td>\n",
       "      <td>2002</td>\n",
       "      <td>...</td>\n",
       "      <td>NaN</td>\n",
       "      <td>NaN</td>\n",
       "      <td>NaN</td>\n",
       "      <td>NaN</td>\n",
       "      <td>None</td>\n",
       "      <td>NaN</td>\n",
       "      <td>NaN</td>\n",
       "      <td>NaN</td>\n",
       "      <td>NaN</td>\n",
       "      <td>20191023</td>\n",
       "    </tr>\n",
       "    <tr>\n",
       "      <th>416194</th>\n",
       "      <td>GSOCGESMAD</td>\n",
       "      <td>2159</td>\n",
       "      <td>1</td>\n",
       "      <td>Cash</td>\n",
       "      <td>General</td>\n",
       "      <td>Active</td>\n",
       "      <td>EUR</td>\n",
       "      <td>None</td>\n",
       "      <td>Cash Account - Corporate</td>\n",
       "      <td>2015</td>\n",
       "      <td>...</td>\n",
       "      <td>NaN</td>\n",
       "      <td>NaN</td>\n",
       "      <td>NaN</td>\n",
       "      <td>NaN</td>\n",
       "      <td>None</td>\n",
       "      <td>NaN</td>\n",
       "      <td>NaN</td>\n",
       "      <td>NaN</td>\n",
       "      <td>NaN</td>\n",
       "      <td>20191023</td>\n",
       "    </tr>\n",
       "    <tr>\n",
       "      <th>416195</th>\n",
       "      <td>GSOCGESMAD</td>\n",
       "      <td>12150</td>\n",
       "      <td>1</td>\n",
       "      <td>Cash</td>\n",
       "      <td>General</td>\n",
       "      <td>Active</td>\n",
       "      <td>EUR</td>\n",
       "      <td>None</td>\n",
       "      <td>Cash Account - Corporate</td>\n",
       "      <td>19688</td>\n",
       "      <td>...</td>\n",
       "      <td>NaN</td>\n",
       "      <td>NaN</td>\n",
       "      <td>NaN</td>\n",
       "      <td>NaN</td>\n",
       "      <td>None</td>\n",
       "      <td>NaN</td>\n",
       "      <td>NaN</td>\n",
       "      <td>NaN</td>\n",
       "      <td>NaN</td>\n",
       "      <td>20191023</td>\n",
       "    </tr>\n",
       "    <tr>\n",
       "      <th>416196</th>\n",
       "      <td>GSOCGESMAD</td>\n",
       "      <td>117494</td>\n",
       "      <td>1</td>\n",
       "      <td>Cash</td>\n",
       "      <td>General</td>\n",
       "      <td>Active</td>\n",
       "      <td>EUR</td>\n",
       "      <td>None</td>\n",
       "      <td>Cash Account - Corporate</td>\n",
       "      <td>30298</td>\n",
       "      <td>...</td>\n",
       "      <td>NaN</td>\n",
       "      <td>NaN</td>\n",
       "      <td>NaN</td>\n",
       "      <td>NaN</td>\n",
       "      <td>None</td>\n",
       "      <td>NaN</td>\n",
       "      <td>NaN</td>\n",
       "      <td>NaN</td>\n",
       "      <td>NaN</td>\n",
       "      <td>20191023</td>\n",
       "    </tr>\n",
       "  </tbody>\n",
       "</table>\n",
       "<p>416197 rows × 94 columns</p>\n",
       "</div>"
      ],
      "text/plain": [
       "       operational_unit  pos_id  sub_account_id account_type account_usage  \\\n",
       "0            GSOCGZURCH    1327               1         Cash       General   \n",
       "1            GSOCGZURCH    1557               1         Cash       General   \n",
       "2            GSOCGZURCH    1558               1         Cash       General   \n",
       "3            GSOCGZURCH    1425               1         Cash       General   \n",
       "4            GSOCGZURCH     957               1         Cash        Vostro   \n",
       "...                 ...     ...             ...          ...           ...   \n",
       "416192       GSOCGNLAMS  111950               1         Cash        Vostro   \n",
       "416193       GSOCGESMAD    2113               1         Cash        Vostro   \n",
       "416194       GSOCGESMAD    2159               1         Cash       General   \n",
       "416195       GSOCGESMAD   12150               1         Cash       General   \n",
       "416196       GSOCGESMAD  117494               1         Cash       General   \n",
       "\n",
       "       account_status account_currency product_type  \\\n",
       "0              Active              CHF         None   \n",
       "1              Active              EUR         None   \n",
       "2              Active              CHF         None   \n",
       "3              Active              CHF         None   \n",
       "4              Active              CHF         None   \n",
       "...               ...              ...          ...   \n",
       "416192         Active              AED         None   \n",
       "416193         Active              EUR         None   \n",
       "416194         Active              EUR         None   \n",
       "416195         Active              EUR         None   \n",
       "416196         Active              EUR         None   \n",
       "\n",
       "                          instrument  business_partner_id  ...  \\\n",
       "0           Cash Account - Corporate                  154  ...   \n",
       "1           Cash Account - Corporate                  214  ...   \n",
       "2           Cash Account - Corporate                  214  ...   \n",
       "3           Cash Account - Corporate                  315  ...   \n",
       "4                Cash Account - Bank                   55  ...   \n",
       "...                              ...                  ...  ...   \n",
       "416192  Cash Account - Business Line                16736  ...   \n",
       "416193           Cash Account - Bank                 2002  ...   \n",
       "416194      Cash Account - Corporate                 2015  ...   \n",
       "416195      Cash Account - Corporate                19688  ...   \n",
       "416196      Cash Account - Corporate                30298  ...   \n",
       "\n",
       "       cti_account_type  entity_code  local_curr_code root_code lead_acnt_num  \\\n",
       "0                   NaN          NaN              NaN       NaN          None   \n",
       "1                   NaN          NaN              NaN       NaN          None   \n",
       "2                   NaN          NaN              NaN       NaN          None   \n",
       "3                   NaN          NaN              NaN       NaN          None   \n",
       "4                   NaN          NaN              NaN       NaN          None   \n",
       "...                 ...          ...              ...       ...           ...   \n",
       "416192              NaN          NaN              NaN       NaN          None   \n",
       "416193              NaN          NaN              NaN       NaN          None   \n",
       "416194              NaN          NaN              NaN       NaN          None   \n",
       "416195              NaN          NaN              NaN       NaN          None   \n",
       "416196              NaN          NaN              NaN       NaN          None   \n",
       "\n",
       "        van_applcbtly neg_cr_intrst neg_dr_intrst acnt_clsr_rsn        dt  \n",
       "0                 NaN           NaN           NaN           NaN  20190403  \n",
       "1                 NaN           NaN           NaN           NaN  20190403  \n",
       "2                 NaN           NaN           NaN           NaN  20190403  \n",
       "3                 NaN           NaN           NaN           NaN  20190403  \n",
       "4                 NaN           NaN           NaN           NaN  20190403  \n",
       "...               ...           ...           ...           ...       ...  \n",
       "416192            NaN           NaN           NaN           NaN  20191023  \n",
       "416193            NaN           NaN           NaN           NaN  20191023  \n",
       "416194            NaN           NaN           NaN           NaN  20191023  \n",
       "416195            NaN           NaN           NaN           NaN  20191023  \n",
       "416196            NaN           NaN           NaN           NaN  20191023  \n",
       "\n",
       "[416197 rows x 94 columns]"
      ]
     },
     "execution_count": 30,
     "metadata": {},
     "output_type": "execute_result"
    }
   ],
   "source": [
    "bd_account"
   ]
  },
  {
   "cell_type": "code",
   "execution_count": 31,
   "id": "978e2b9a-013d-4df4-8e64-57002d22b471",
   "metadata": {},
   "outputs": [],
   "source": [
    "anonymised_dict_account = [{'col': list_iban_account_anonym, 'category': 'iban_number'},\n",
    "                                  {'col': list_company_name_account_anonym, 'category': 'company'},\n",
    "                                  {'col': list_bdr_id_account_anonym, 'category': 'bdr_id'},\n",
    "                                  {'col': list_ten_letters_account_anonym, 'category': 'ten_letters'}\n",
    "]"
   ]
  },
  {
   "cell_type": "code",
   "execution_count": 32,
   "id": "4e8c6b40-4dab-41c8-9572-5e059c0d0290",
   "metadata": {},
   "outputs": [],
   "source": [
    "bd_account_anonymised = bd_account.copy()"
   ]
  },
  {
   "cell_type": "code",
   "execution_count": 33,
   "id": "f9787f92-fbbd-4313-a0ae-51d7f3328000",
   "metadata": {},
   "outputs": [],
   "source": [
    "start = time.time()            "
   ]
  },
  {
   "cell_type": "code",
   "execution_count": 34,
   "id": "739ae281-0b42-44e2-ba88-56fece1a943f",
   "metadata": {},
   "outputs": [
    {
     "name": "stdout",
     "output_type": "stream",
     "text": [
      "col external_reference_2\n"
     ]
    }
   ],
   "source": [
    "bd_account_anonymised = anonymizer_iban_prepro(bd_account_anonymised, list_iban_account_anonym)"
   ]
  },
  {
   "cell_type": "code",
   "execution_count": 35,
   "id": "2f3f18a7-e466-490c-9d1a-9aa12163bb8c",
   "metadata": {},
   "outputs": [],
   "source": [
    "bd_account_anonymised, mapping = anonymizer(bd_account_anonymised, anonymised_dict_account)"
   ]
  },
  {
   "cell_type": "code",
   "execution_count": 36,
   "id": "878d9691-1d87-4713-9d5d-3f20662d2a3d",
   "metadata": {},
   "outputs": [
    {
     "name": "stdout",
     "output_type": "stream",
     "text": [
      "col external_reference_2\n",
      "Dropping col\n"
     ]
    }
   ],
   "source": [
    "bd_account_anonymised = anonymizer_iban_post(bd_account_anonymised, list_iban_account_anonym)"
   ]
  },
  {
   "cell_type": "code",
   "execution_count": 37,
   "id": "2be8b9b4-288e-4705-834d-1ebeefb1249b",
   "metadata": {},
   "outputs": [
    {
     "name": "stdout",
     "output_type": "stream",
     "text": [
      "Anonymisation Time 587.137444972992s\n"
     ]
    }
   ],
   "source": [
    "stop = time.time()\n",
    "print(f'Anonymisation Time {stop - start}s')"
   ]
  },
  {
   "cell_type": "code",
   "execution_count": 38,
   "id": "a9b0afda-cc65-4a9c-bf82-c6f32253cf5e",
   "metadata": {},
   "outputs": [],
   "source": [
    "real_data_dict['bd_account'] = bd_account_anonymised"
   ]
  },
  {
   "cell_type": "code",
   "execution_count": 39,
   "id": "7827afa5-01c4-4423-8e75-ebc28e8aa04b",
   "metadata": {},
   "outputs": [
    {
     "data": {
      "text/html": [
       "<div>\n",
       "<style scoped>\n",
       "    .dataframe tbody tr th:only-of-type {\n",
       "        vertical-align: middle;\n",
       "    }\n",
       "\n",
       "    .dataframe tbody tr th {\n",
       "        vertical-align: top;\n",
       "    }\n",
       "\n",
       "    .dataframe thead th {\n",
       "        text-align: right;\n",
       "    }\n",
       "</style>\n",
       "<table border=\"1\" class=\"dataframe\">\n",
       "  <thead>\n",
       "    <tr style=\"text-align: right;\">\n",
       "      <th></th>\n",
       "      <th>operational_unit</th>\n",
       "      <th>pos_id</th>\n",
       "      <th>sub_account_id</th>\n",
       "      <th>account_type</th>\n",
       "      <th>account_usage</th>\n",
       "      <th>account_status</th>\n",
       "      <th>account_currency</th>\n",
       "      <th>product_type</th>\n",
       "      <th>instrument</th>\n",
       "      <th>business_partner_id</th>\n",
       "      <th>...</th>\n",
       "      <th>entity_code</th>\n",
       "      <th>local_curr_code</th>\n",
       "      <th>root_code</th>\n",
       "      <th>lead_acnt_num</th>\n",
       "      <th>van_applcbtly</th>\n",
       "      <th>neg_cr_intrst</th>\n",
       "      <th>neg_dr_intrst</th>\n",
       "      <th>acnt_clsr_rsn</th>\n",
       "      <th>dt</th>\n",
       "      <th>external_reference_2</th>\n",
       "    </tr>\n",
       "  </thead>\n",
       "  <tbody>\n",
       "    <tr>\n",
       "      <th>0</th>\n",
       "      <td>GSOCGZURCH</td>\n",
       "      <td>1327</td>\n",
       "      <td>1</td>\n",
       "      <td>Cash</td>\n",
       "      <td>General</td>\n",
       "      <td>Active</td>\n",
       "      <td>CHF</td>\n",
       "      <td>None</td>\n",
       "      <td>Cash Account - Corporate</td>\n",
       "      <td>154</td>\n",
       "      <td>...</td>\n",
       "      <td>NaN</td>\n",
       "      <td>NaN</td>\n",
       "      <td>NaN</td>\n",
       "      <td>None</td>\n",
       "      <td>NaN</td>\n",
       "      <td>NaN</td>\n",
       "      <td>NaN</td>\n",
       "      <td>NaN</td>\n",
       "      <td>20190403</td>\n",
       "      <td>CH35ZNXW82861473081530</td>\n",
       "    </tr>\n",
       "    <tr>\n",
       "      <th>1</th>\n",
       "      <td>GSOCGZURCH</td>\n",
       "      <td>1557</td>\n",
       "      <td>1</td>\n",
       "      <td>Cash</td>\n",
       "      <td>General</td>\n",
       "      <td>Active</td>\n",
       "      <td>EUR</td>\n",
       "      <td>None</td>\n",
       "      <td>Cash Account - Corporate</td>\n",
       "      <td>214</td>\n",
       "      <td>...</td>\n",
       "      <td>NaN</td>\n",
       "      <td>NaN</td>\n",
       "      <td>NaN</td>\n",
       "      <td>None</td>\n",
       "      <td>NaN</td>\n",
       "      <td>NaN</td>\n",
       "      <td>NaN</td>\n",
       "      <td>NaN</td>\n",
       "      <td>20190403</td>\n",
       "      <td>CH83BCWF65571799457686</td>\n",
       "    </tr>\n",
       "    <tr>\n",
       "      <th>2</th>\n",
       "      <td>GSOCGZURCH</td>\n",
       "      <td>1558</td>\n",
       "      <td>1</td>\n",
       "      <td>Cash</td>\n",
       "      <td>General</td>\n",
       "      <td>Active</td>\n",
       "      <td>CHF</td>\n",
       "      <td>None</td>\n",
       "      <td>Cash Account - Corporate</td>\n",
       "      <td>214</td>\n",
       "      <td>...</td>\n",
       "      <td>NaN</td>\n",
       "      <td>NaN</td>\n",
       "      <td>NaN</td>\n",
       "      <td>None</td>\n",
       "      <td>NaN</td>\n",
       "      <td>NaN</td>\n",
       "      <td>NaN</td>\n",
       "      <td>NaN</td>\n",
       "      <td>20190403</td>\n",
       "      <td>CH40IQEQ63167039246315</td>\n",
       "    </tr>\n",
       "    <tr>\n",
       "      <th>3</th>\n",
       "      <td>GSOCGZURCH</td>\n",
       "      <td>1425</td>\n",
       "      <td>1</td>\n",
       "      <td>Cash</td>\n",
       "      <td>General</td>\n",
       "      <td>Active</td>\n",
       "      <td>CHF</td>\n",
       "      <td>None</td>\n",
       "      <td>Cash Account - Corporate</td>\n",
       "      <td>315</td>\n",
       "      <td>...</td>\n",
       "      <td>NaN</td>\n",
       "      <td>NaN</td>\n",
       "      <td>NaN</td>\n",
       "      <td>None</td>\n",
       "      <td>NaN</td>\n",
       "      <td>NaN</td>\n",
       "      <td>NaN</td>\n",
       "      <td>NaN</td>\n",
       "      <td>20190403</td>\n",
       "      <td>CH44OBXP43324897213826</td>\n",
       "    </tr>\n",
       "    <tr>\n",
       "      <th>4</th>\n",
       "      <td>GSOCGZURCH</td>\n",
       "      <td>957</td>\n",
       "      <td>1</td>\n",
       "      <td>Cash</td>\n",
       "      <td>Vostro</td>\n",
       "      <td>Active</td>\n",
       "      <td>CHF</td>\n",
       "      <td>None</td>\n",
       "      <td>Cash Account - Bank</td>\n",
       "      <td>55</td>\n",
       "      <td>...</td>\n",
       "      <td>NaN</td>\n",
       "      <td>NaN</td>\n",
       "      <td>NaN</td>\n",
       "      <td>None</td>\n",
       "      <td>NaN</td>\n",
       "      <td>NaN</td>\n",
       "      <td>NaN</td>\n",
       "      <td>NaN</td>\n",
       "      <td>20190403</td>\n",
       "      <td>CH42UCHC93666232839951</td>\n",
       "    </tr>\n",
       "    <tr>\n",
       "      <th>...</th>\n",
       "      <td>...</td>\n",
       "      <td>...</td>\n",
       "      <td>...</td>\n",
       "      <td>...</td>\n",
       "      <td>...</td>\n",
       "      <td>...</td>\n",
       "      <td>...</td>\n",
       "      <td>...</td>\n",
       "      <td>...</td>\n",
       "      <td>...</td>\n",
       "      <td>...</td>\n",
       "      <td>...</td>\n",
       "      <td>...</td>\n",
       "      <td>...</td>\n",
       "      <td>...</td>\n",
       "      <td>...</td>\n",
       "      <td>...</td>\n",
       "      <td>...</td>\n",
       "      <td>...</td>\n",
       "      <td>...</td>\n",
       "      <td>...</td>\n",
       "    </tr>\n",
       "    <tr>\n",
       "      <th>416192</th>\n",
       "      <td>GSOCGNLAMS</td>\n",
       "      <td>111950</td>\n",
       "      <td>1</td>\n",
       "      <td>Cash</td>\n",
       "      <td>Vostro</td>\n",
       "      <td>Active</td>\n",
       "      <td>AED</td>\n",
       "      <td>None</td>\n",
       "      <td>Cash Account - Business Line</td>\n",
       "      <td>16736</td>\n",
       "      <td>...</td>\n",
       "      <td>NaN</td>\n",
       "      <td>NaN</td>\n",
       "      <td>NaN</td>\n",
       "      <td>None</td>\n",
       "      <td>NaN</td>\n",
       "      <td>NaN</td>\n",
       "      <td>NaN</td>\n",
       "      <td>NaN</td>\n",
       "      <td>20191023</td>\n",
       "      <td>NL61UUSK46616490383997</td>\n",
       "    </tr>\n",
       "    <tr>\n",
       "      <th>416193</th>\n",
       "      <td>GSOCGESMAD</td>\n",
       "      <td>2113</td>\n",
       "      <td>1</td>\n",
       "      <td>Cash</td>\n",
       "      <td>Vostro</td>\n",
       "      <td>Active</td>\n",
       "      <td>EUR</td>\n",
       "      <td>None</td>\n",
       "      <td>Cash Account - Bank</td>\n",
       "      <td>2002</td>\n",
       "      <td>...</td>\n",
       "      <td>NaN</td>\n",
       "      <td>NaN</td>\n",
       "      <td>NaN</td>\n",
       "      <td>None</td>\n",
       "      <td>NaN</td>\n",
       "      <td>NaN</td>\n",
       "      <td>NaN</td>\n",
       "      <td>NaN</td>\n",
       "      <td>20191023</td>\n",
       "      <td>ES73PHKU91148940349939</td>\n",
       "    </tr>\n",
       "    <tr>\n",
       "      <th>416194</th>\n",
       "      <td>GSOCGESMAD</td>\n",
       "      <td>2159</td>\n",
       "      <td>1</td>\n",
       "      <td>Cash</td>\n",
       "      <td>General</td>\n",
       "      <td>Active</td>\n",
       "      <td>EUR</td>\n",
       "      <td>None</td>\n",
       "      <td>Cash Account - Corporate</td>\n",
       "      <td>2015</td>\n",
       "      <td>...</td>\n",
       "      <td>NaN</td>\n",
       "      <td>NaN</td>\n",
       "      <td>NaN</td>\n",
       "      <td>None</td>\n",
       "      <td>NaN</td>\n",
       "      <td>NaN</td>\n",
       "      <td>NaN</td>\n",
       "      <td>NaN</td>\n",
       "      <td>20191023</td>\n",
       "      <td>ES54JZYS72593036887863</td>\n",
       "    </tr>\n",
       "    <tr>\n",
       "      <th>416195</th>\n",
       "      <td>GSOCGESMAD</td>\n",
       "      <td>12150</td>\n",
       "      <td>1</td>\n",
       "      <td>Cash</td>\n",
       "      <td>General</td>\n",
       "      <td>Active</td>\n",
       "      <td>EUR</td>\n",
       "      <td>None</td>\n",
       "      <td>Cash Account - Corporate</td>\n",
       "      <td>19688</td>\n",
       "      <td>...</td>\n",
       "      <td>NaN</td>\n",
       "      <td>NaN</td>\n",
       "      <td>NaN</td>\n",
       "      <td>None</td>\n",
       "      <td>NaN</td>\n",
       "      <td>NaN</td>\n",
       "      <td>NaN</td>\n",
       "      <td>NaN</td>\n",
       "      <td>20191023</td>\n",
       "      <td>ES29VWYF36804389053960</td>\n",
       "    </tr>\n",
       "    <tr>\n",
       "      <th>416196</th>\n",
       "      <td>GSOCGESMAD</td>\n",
       "      <td>117494</td>\n",
       "      <td>1</td>\n",
       "      <td>Cash</td>\n",
       "      <td>General</td>\n",
       "      <td>Active</td>\n",
       "      <td>EUR</td>\n",
       "      <td>None</td>\n",
       "      <td>Cash Account - Corporate</td>\n",
       "      <td>30298</td>\n",
       "      <td>...</td>\n",
       "      <td>NaN</td>\n",
       "      <td>NaN</td>\n",
       "      <td>NaN</td>\n",
       "      <td>None</td>\n",
       "      <td>NaN</td>\n",
       "      <td>NaN</td>\n",
       "      <td>NaN</td>\n",
       "      <td>NaN</td>\n",
       "      <td>20191023</td>\n",
       "      <td>ES99FUFB59840455123759</td>\n",
       "    </tr>\n",
       "  </tbody>\n",
       "</table>\n",
       "<p>416197 rows × 94 columns</p>\n",
       "</div>"
      ],
      "text/plain": [
       "       operational_unit  pos_id  sub_account_id account_type account_usage  \\\n",
       "0            GSOCGZURCH    1327               1         Cash       General   \n",
       "1            GSOCGZURCH    1557               1         Cash       General   \n",
       "2            GSOCGZURCH    1558               1         Cash       General   \n",
       "3            GSOCGZURCH    1425               1         Cash       General   \n",
       "4            GSOCGZURCH     957               1         Cash        Vostro   \n",
       "...                 ...     ...             ...          ...           ...   \n",
       "416192       GSOCGNLAMS  111950               1         Cash        Vostro   \n",
       "416193       GSOCGESMAD    2113               1         Cash        Vostro   \n",
       "416194       GSOCGESMAD    2159               1         Cash       General   \n",
       "416195       GSOCGESMAD   12150               1         Cash       General   \n",
       "416196       GSOCGESMAD  117494               1         Cash       General   \n",
       "\n",
       "       account_status account_currency product_type  \\\n",
       "0              Active              CHF         None   \n",
       "1              Active              EUR         None   \n",
       "2              Active              CHF         None   \n",
       "3              Active              CHF         None   \n",
       "4              Active              CHF         None   \n",
       "...               ...              ...          ...   \n",
       "416192         Active              AED         None   \n",
       "416193         Active              EUR         None   \n",
       "416194         Active              EUR         None   \n",
       "416195         Active              EUR         None   \n",
       "416196         Active              EUR         None   \n",
       "\n",
       "                          instrument  business_partner_id  ... entity_code  \\\n",
       "0           Cash Account - Corporate                  154  ...         NaN   \n",
       "1           Cash Account - Corporate                  214  ...         NaN   \n",
       "2           Cash Account - Corporate                  214  ...         NaN   \n",
       "3           Cash Account - Corporate                  315  ...         NaN   \n",
       "4                Cash Account - Bank                   55  ...         NaN   \n",
       "...                              ...                  ...  ...         ...   \n",
       "416192  Cash Account - Business Line                16736  ...         NaN   \n",
       "416193           Cash Account - Bank                 2002  ...         NaN   \n",
       "416194      Cash Account - Corporate                 2015  ...         NaN   \n",
       "416195      Cash Account - Corporate                19688  ...         NaN   \n",
       "416196      Cash Account - Corporate                30298  ...         NaN   \n",
       "\n",
       "        local_curr_code  root_code lead_acnt_num van_applcbtly  neg_cr_intrst  \\\n",
       "0                   NaN        NaN          None           NaN            NaN   \n",
       "1                   NaN        NaN          None           NaN            NaN   \n",
       "2                   NaN        NaN          None           NaN            NaN   \n",
       "3                   NaN        NaN          None           NaN            NaN   \n",
       "4                   NaN        NaN          None           NaN            NaN   \n",
       "...                 ...        ...           ...           ...            ...   \n",
       "416192              NaN        NaN          None           NaN            NaN   \n",
       "416193              NaN        NaN          None           NaN            NaN   \n",
       "416194              NaN        NaN          None           NaN            NaN   \n",
       "416195              NaN        NaN          None           NaN            NaN   \n",
       "416196              NaN        NaN          None           NaN            NaN   \n",
       "\n",
       "       neg_dr_intrst acnt_clsr_rsn        dt    external_reference_2  \n",
       "0                NaN           NaN  20190403  CH35ZNXW82861473081530  \n",
       "1                NaN           NaN  20190403  CH83BCWF65571799457686  \n",
       "2                NaN           NaN  20190403  CH40IQEQ63167039246315  \n",
       "3                NaN           NaN  20190403  CH44OBXP43324897213826  \n",
       "4                NaN           NaN  20190403  CH42UCHC93666232839951  \n",
       "...              ...           ...       ...                     ...  \n",
       "416192           NaN           NaN  20191023  NL61UUSK46616490383997  \n",
       "416193           NaN           NaN  20191023  ES73PHKU91148940349939  \n",
       "416194           NaN           NaN  20191023  ES54JZYS72593036887863  \n",
       "416195           NaN           NaN  20191023  ES29VWYF36804389053960  \n",
       "416196           NaN           NaN  20191023  ES99FUFB59840455123759  \n",
       "\n",
       "[416197 rows x 94 columns]"
      ]
     },
     "execution_count": 39,
     "metadata": {},
     "output_type": "execute_result"
    }
   ],
   "source": [
    "bd_account_anonymised"
   ]
  },
  {
   "cell_type": "markdown",
   "id": "904ab3ee-54fa-4b81-9cbc-fee7623d09e5",
   "metadata": {},
   "source": [
    "### Filter by bp_id"
   ]
  },
  {
   "cell_type": "code",
   "execution_count": 40,
   "id": "c30b0952-f823-4a3d-9b18-3bcd2ebd0c66",
   "metadata": {},
   "outputs": [],
   "source": [
    "#bd_account_filter = account_anonymised.copy()\n",
    "#list_bp_id_filter = [\n",
    "#17334,\n",
    "#17336,\n",
    "#17338,\n",
    "#16734,\n",
    "#5996\n",
    "#]"
   ]
  },
  {
   "cell_type": "code",
   "execution_count": 41,
   "id": "afe58348-db03-4384-9d46-a80600c80d0d",
   "metadata": {},
   "outputs": [],
   "source": [
    "#mask_bp_id = bd_account_filter['business_partner_id'].isin(list_bp_id_filter)\n",
    "#bd_account_filter = bd_account_filter[mask_bp_id]"
   ]
  },
  {
   "cell_type": "code",
   "execution_count": 42,
   "id": "dd924bd8-378d-40c6-800c-d87f40639d19",
   "metadata": {},
   "outputs": [],
   "source": [
    "#bd_account_filter = clear_float_columns(bd_account_filter)"
   ]
  },
  {
   "cell_type": "code",
   "execution_count": 43,
   "id": "577ad072-609c-4659-bac1-196e2cbf4dbb",
   "metadata": {},
   "outputs": [],
   "source": [
    "#anonymised_path_account_filter = f'a495587/original_data/original_{tracking_id}_anonym_filter/int_bd_account/data/bd_account_anonym.parquet'"
   ]
  },
  {
   "cell_type": "code",
   "execution_count": 44,
   "id": "7f9d2dc3-5606-4056-8e35-6d693cbfacad",
   "metadata": {},
   "outputs": [],
   "source": [
    "#s3_connector.write_parquet(anonymised_path_account_filter, bd_account_filter)"
   ]
  },
  {
   "cell_type": "markdown",
   "id": "dd5b3eec-81f6-4a0d-a22f-cbf51247c14d",
   "metadata": {
    "execution": {
     "iopub.execute_input": "2023-08-28T12:19:35.714561Z",
     "iopub.status.busy": "2023-08-28T12:19:35.713096Z",
     "iopub.status.idle": "2023-08-28T12:19:35.743953Z",
     "shell.execute_reply": "2023-08-28T12:19:35.742639Z",
     "shell.execute_reply.started": "2023-08-28T12:19:35.714494Z"
    }
   },
   "source": [
    "## 2) Int_bd_bpmainonscreen"
   ]
  },
  {
   "cell_type": "code",
   "execution_count": 45,
   "id": "29fd12ce-318a-4019-abbf-01b96f1011e5",
   "metadata": {},
   "outputs": [],
   "source": [
    "bpmainonscreen = real_data_dict['bd_bpmainonscreen']"
   ]
  },
  {
   "cell_type": "code",
   "execution_count": 46,
   "id": "8d2b7c4e-075c-4a81-b381-fe32a928e0f4",
   "metadata": {
    "tags": []
   },
   "outputs": [],
   "source": [
    "list_company_name_bpmainonscreen_anonym = [\n",
    "'full_lgl_nm',\n",
    "'nm_1',\n",
    "'nm_1_1',\n",
    "'nm_1_2',\n",
    "'nm_1_3',\n",
    "'nm_1_4',\n",
    "'nm_1_5',\n",
    "'frst_line_of_prfrd_name', \n",
    "'scnd_line_of_prfrd_name',  \n",
    "'frst_name', \n",
    "'mdle_nm', \n",
    "'brth_plc', \n",
    "'mthr_nm', \n",
    "]"
   ]
  },
  {
   "cell_type": "code",
   "execution_count": 47,
   "id": "61b01d68-df3b-4cda-8a0b-e112aeee61be",
   "metadata": {},
   "outputs": [],
   "source": [
    "list_address_bpmainonscreen_anonym = [\n",
    "'shrt_adrs1', \n",
    "'shrt_adrs2',\n",
    "]"
   ]
  },
  {
   "cell_type": "code",
   "execution_count": 48,
   "id": "331f6b1b-051a-432f-ba89-af9ff7c8acb7",
   "metadata": {},
   "outputs": [],
   "source": [
    "list_country_code_bpmainonscreen_anonym = ['cntry_of_risk']"
   ]
  },
  {
   "cell_type": "code",
   "execution_count": 49,
   "id": "ba5c9b7c-0ec7-45a9-b917-d905869ef742",
   "metadata": {},
   "outputs": [],
   "source": [
    "list_bdr_id_anonym = ['bdr_id']"
   ]
  },
  {
   "cell_type": "code",
   "execution_count": 50,
   "id": "dc3994fd-0fa9-4229-a49e-f4cfb26669a5",
   "metadata": {
    "tags": []
   },
   "outputs": [],
   "source": [
    "list_not_in_bpmainonscreen = [\n",
    "'nm_1_6',\n",
    "'nm_2_1',\n",
    "'nm_2_2',\n",
    "'nm_2_3',\n",
    "'nm_2_4',\n",
    "'nm_2_5',\n",
    "'nm_2_6',\n",
    "'idnty_cntry'\n",
    "]"
   ]
  },
  {
   "cell_type": "code",
   "execution_count": 51,
   "id": "7ccf2807-f9c9-4e80-a3bd-88680cb247f5",
   "metadata": {
    "tags": []
   },
   "outputs": [],
   "source": [
    "anonymised_dict_bpmainonscreen = [{'col': list_address_bpmainonscreen_anonym, 'category': 'address'},\n",
    "                                  {'col': list_country_code_bpmainonscreen_anonym, 'category': 'country_code'},\n",
    "                                  {'col': list_company_name_bpmainonscreen_anonym, 'category': 'company'},\n",
    "                                  {'col': list_bdr_id_anonym, 'category': 'bdr_id'},\n",
    "]"
   ]
  },
  {
   "cell_type": "code",
   "execution_count": 52,
   "id": "934f6ded-3aeb-47f0-a3d9-ffe8bce9fbad",
   "metadata": {
    "tags": []
   },
   "outputs": [
    {
     "name": "stdout",
     "output_type": "stream",
     "text": [
      "Anonymisation Time 152.34622883796692s\n"
     ]
    }
   ],
   "source": [
    "start = time.time()            \n",
    "bpmainonscreen_anonymised, mapping = anonymizer(bpmainonscreen, anonymised_dict_bpmainonscreen)\n",
    "stop = time.time()\n",
    "print(f'Anonymisation Time {stop - start}s')"
   ]
  },
  {
   "cell_type": "code",
   "execution_count": 53,
   "id": "63d0a6c3-c543-4a5f-8f37-697bc889334b",
   "metadata": {},
   "outputs": [],
   "source": [
    "real_data_dict['bd_bpmainonscreen'] = bpmainonscreen_anonymised"
   ]
  },
  {
   "cell_type": "markdown",
   "id": "a9fddf75-de68-48f9-a6a0-7b5849c069ed",
   "metadata": {},
   "source": [
    "## 3) Int_bd_communication_address\n",
    "\n",
    "- comm_adrs -> Address"
   ]
  },
  {
   "cell_type": "code",
   "execution_count": 54,
   "id": "9de29a63-f717-45b4-88f1-2d3c81e480ad",
   "metadata": {},
   "outputs": [],
   "source": [
    "communication_address = real_data_dict['bd_communication_address']"
   ]
  },
  {
   "cell_type": "code",
   "execution_count": 55,
   "id": "9c8e17b7-fba5-4824-9f14-14c0dd0a55f9",
   "metadata": {
    "scrolled": true,
    "tags": []
   },
   "outputs": [
    {
     "data": {
      "text/plain": [
       "0       ABSAZAJJAIS\n",
       "1          RSBNRUMM\n",
       "2          SEIOGB2L\n",
       "3          TRDIGB2L\n",
       "4          SWQBCHZZ\n",
       "           ...     \n",
       "1352       ABSAZAJJ\n",
       "1353       ABNABE2A\n",
       "1354       DEIBEGCX\n",
       "1355       RSBNRUMM\n",
       "1356    SOGEFRPPSGO\n",
       "Name: comm_adrs, Length: 1357, dtype: object"
      ]
     },
     "execution_count": 55,
     "metadata": {},
     "output_type": "execute_result"
    }
   ],
   "source": [
    "communication_address['comm_adrs']"
   ]
  },
  {
   "cell_type": "code",
   "execution_count": 56,
   "id": "1030be06-572a-49ad-a592-4cc270074cdc",
   "metadata": {},
   "outputs": [],
   "source": [
    "anonymised_dict_communication_address = [{'col': ['comm_adrs'], 'category': 'address'}]"
   ]
  },
  {
   "cell_type": "code",
   "execution_count": 57,
   "id": "b2336fda-72af-41a0-8ce9-793515d94984",
   "metadata": {},
   "outputs": [
    {
     "name": "stdout",
     "output_type": "stream",
     "text": [
      "Anonymisation Time 0.31684231758117676s\n"
     ]
    }
   ],
   "source": [
    "start = time.time()            \n",
    "communication_address_anonymised, mapping = anonymizer(communication_address, anonymised_dict_communication_address)\n",
    "stop = time.time()\n",
    "print(f'Anonymisation Time {stop - start}s')"
   ]
  },
  {
   "cell_type": "code",
   "execution_count": 58,
   "id": "b54f3d4c-fd13-4765-92a7-d1c64a6fd1c7",
   "metadata": {},
   "outputs": [],
   "source": [
    "real_data_dict['bd_communication_address'] = communication_address_anonymised"
   ]
  },
  {
   "cell_type": "markdown",
   "id": "49d8fc46-be8c-40e7-a728-363d41a2bb77",
   "metadata": {},
   "source": [
    "## 4) Int_bd_transfer_remittance anonymiser"
   ]
  },
  {
   "cell_type": "markdown",
   "id": "0cc8cecf-c908-4abd-a8a5-6820a15096cd",
   "metadata": {},
   "source": [
    "### Specific Rules\n",
    "\n",
    "**IBAN**: \n",
    "- credit_transfer_credit_account_reference\n",
    "\n",
    "**10 Letters**:\n",
    "\n",
    "- credit_transfer_settlement_remarks_line1 \n",
    "- credit_transfer_settlement_remarks_line2 \n",
    "- credit_transfer_settlement_remarks_line3 \n",
    "- credit_transfer_settlement_remarks_line4 \n",
    "\n",
    "\n",
    "**Also:**\n",
    "\n",
    "- credit_transfer_debit_bp_name\n",
    "- credit_transfer_debit_correspondent_bp_name\n",
    "- credit_transfer_correspondent_bp_name "
   ]
  },
  {
   "cell_type": "code",
   "execution_count": 59,
   "id": "3180dd1f-6143-4fff-bdd1-6938d4212bc0",
   "metadata": {},
   "outputs": [],
   "source": [
    "transfer_remittance = real_data_dict['bd_transfer_remittance']"
   ]
  },
  {
   "cell_type": "code",
   "execution_count": 60,
   "id": "83c86e61-8a13-4346-a31d-0758483ddde9",
   "metadata": {},
   "outputs": [
    {
     "data": {
      "text/plain": [
       "(1867673, 368)"
      ]
     },
     "execution_count": 60,
     "metadata": {},
     "output_type": "execute_result"
    }
   ],
   "source": [
    "transfer_remittance.shape"
   ]
  },
  {
   "cell_type": "markdown",
   "id": "881aa424-ca98-4d5f-8e35-836e1311a379",
   "metadata": {},
   "source": [
    "### Filter by Date 2022"
   ]
  },
  {
   "cell_type": "code",
   "execution_count": 61,
   "id": "85d7756b-0e55-4c2d-b6db-7a3d24a6e938",
   "metadata": {},
   "outputs": [],
   "source": [
    "transfer_remittance['credit_transfer_debit_execution_date'] = pd.to_datetime(transfer_remittance['credit_transfer_debit_execution_date'])\n",
    "mask = transfer_remittance['credit_transfer_debit_execution_date'].dt.year == int(2022)\n",
    "transfer_remittance_2022 = transfer_remittance[mask]"
   ]
  },
  {
   "cell_type": "code",
   "execution_count": 62,
   "id": "86f0f0dc-0ca4-43f5-975f-07bc128ea642",
   "metadata": {},
   "outputs": [],
   "source": [
    "transfer_remittance_2022['credit_transfer_debit_execution_date'] = transfer_remittance_2022['credit_transfer_debit_execution_date'].dt.date"
   ]
  },
  {
   "cell_type": "code",
   "execution_count": 63,
   "id": "779c95ab-6838-49d1-8d88-d111a95b4ffa",
   "metadata": {},
   "outputs": [
    {
     "data": {
      "text/plain": [
       "(1867673, 368)"
      ]
     },
     "execution_count": 63,
     "metadata": {},
     "output_type": "execute_result"
    }
   ],
   "source": [
    "transfer_remittance_2022.shape"
   ]
  },
  {
   "cell_type": "markdown",
   "id": "0dd9178c-de7f-4c31-b36e-33aa6590eac6",
   "metadata": {},
   "source": [
    "#### List to anonymised per type"
   ]
  },
  {
   "cell_type": "code",
   "execution_count": 64,
   "id": "fd9c2df1-9d05-4126-80a5-8178a6fed6f6",
   "metadata": {
    "tags": []
   },
   "outputs": [],
   "source": [
    "list_address_transfer = [    \n",
    "'credit_transfer_third_party_address_line3',  \n",
    "'credit_transfer_third_party_address_line2',  \n",
    "'credit_transfer_intermadry_address_line1',  \n",
    "'credit_transfer_intermadry_address_line2',  \n",
    "'credit_transfer_intermadry_address_line3',\n",
    "'credit_transfer_ordering_cust_address_line1',  \n",
    "'credit_transfer_ordering_cust_address_line2', \n",
    "'credit_transfer_ordering_cust_address_line3',  \n",
    "'credit_transfer_ordering_institution_address_line1',  \n",
    "'credit_transfer_ordering_institution_address_line2',  \n",
    "'credit_transfer_ordering_institution_address_line3',  \n",
    "'credit_transfer_receiver_crspndnt_address_line1',  \n",
    "'credit_transfer_receiver_crspndnt_address_line2',  \n",
    "'credit_transfer_receiver_crspndnt_address_line3',\n",
    "'credit_transfer_beneficiary_party_address_line1', \n",
    "'credit_transfer_beneficiary_party_address_line2',  \n",
    "'credit_transfer_beneficiary_party_address_line3',  \n",
    "'credit_transfer_intermediary_institution_address_line1',  \n",
    "'credit_transfer_intermediary_institution_address_line2',  \n",
    "'credit_transfer_intermediary_institution_address_line3',  \n",
    "'credit_transfer_cover_details_ordering_institution_address_line1',  \n",
    "'credit_transfer_cover_details_ordering_institution_address_line2',  \n",
    "'credit_transfer_cover_details_ordering_institution_address_line3',  \n",
    "'credit_transfer_cover_beneficiary_bank_address_line1',  \n",
    "'credit_transfer_cover_beneficiary_bank_address_line2',  \n",
    "'credit_transfer_cover_beneficiary_bank_address_line3',  \n",
    "'credit_transfer_ordering_party_adrs_line1',  \n",
    "'credit_transfer_ordering_party_adrs_line2',  \n",
    "'credit_transfer_ordering_party_adrs_line3',\n",
    "'credit_transfer_beneficiary_bank_address_line1',  \n",
    "'credit_transfer_beneficiary_bank_address_line2',  \n",
    "'credit_transfer_beneficiary_bank_address_line3',    \n",
    "'credit_transfer_instr_party_address_line1',  \n",
    "'credit_transfer_instr_party_address_line2',  \n",
    "'credit_transfer_instr_party_address_line3',  \n",
    "'credit_transfer_intermediary_address_line1',  \n",
    "'credit_transfer_intermediary_address_line2',  \n",
    "'credit_transfer_intermediary_address_line3',  \n",
    "'credit_transfer_rcvr_crspndnt_address_line1',  \n",
    "'credit_transfer_rcvr_crspndnt_address_line2',  \n",
    "'credit_transfer_rcvr_crspndnt_address_line3',  \n",
    "'credit_transfer_si_beneficiary_bank_address_line1',  \n",
    "'credit_transfer_si_beneficiary_bank_address_line2',  \n",
    "'credit_transfer_si_beneficiary_bank_address_line3',  \n",
    "'credit_transfer_settlement_account_address_line1',  \n",
    "'credit_transfer_settlement_account_address_line2',  \n",
    "'credit_transfer_settlement_account_address_line3',  \n",
    "'credit_transfer_settlement_account_address_line4',  \n",
    "'credit_transfer_ulti_creditor_address_line1',  \n",
    "'credit_transfer_ulti_creditor_address_line2',  \n",
    "'credit_transfer_ulti_creditor_address_line3']"
   ]
  },
  {
   "cell_type": "code",
   "execution_count": 65,
   "id": "af2d2928-1420-4b78-be7d-e389f6740da4",
   "metadata": {
    "tags": []
   },
   "outputs": [],
   "source": [
    "# No Need\n",
    "list_currency_transfer = [\n",
    "'credit_transfer_currency',\n",
    "'credit_transfer_counter_currency',  \n",
    "'credit_transfer_account_reference_currency',  \n",
    "'credit_transfer_debit_actual_crncy',  \n",
    "'credit_transfer_trf_crncy',  \n",
    "'credit_transfer_credit_actual_crncy',\n",
    "'credit_transfer_correspondent_account_currency' \n",
    "]"
   ]
  },
  {
   "cell_type": "code",
   "execution_count": 66,
   "id": "a5c9cdff-b5c2-4f39-8f61-f0389fbbdba9",
   "metadata": {
    "tags": []
   },
   "outputs": [],
   "source": [
    "list_company_name_transfer = [\n",
    "'credit_transfer_settlement_account_name',\n",
    "'credit_transfer_ordering_cust_name',  \n",
    "'credit_transfer_beneficiary_bank_account_name',    \n",
    "'credit_transfer_intermediary_name',  \n",
    "'credit_transfer_ultimate_creditor_name',\n",
    "'credit_transfer_intermadry_name',  \n",
    "'credit_transfer_ordering_institution_name',  \n",
    "'credit_transfer_receiver_crspndnt_name',\n",
    "'type_of_booking',\n",
    "'credit_transfer_beneficiary_party_address_type',  \n",
    "'credit_transfer_debit_bp_name', \n",
    "'credit_transfer_debit_correspondent_bp_name', \n",
    "'credit_transfer_correspondent_bp_name'\n",
    "]"
   ]
  },
  {
   "cell_type": "code",
   "execution_count": 67,
   "id": "ec175149-0cb0-4dd2-b608-08b2327d9cc8",
   "metadata": {},
   "outputs": [],
   "source": [
    "list_iban_transfer = [\n",
    "'credit_transfer_credit_account_reference'\n",
    "]"
   ]
  },
  {
   "cell_type": "code",
   "execution_count": 68,
   "id": "eae1ec06-53fe-4b09-b4fe-9fe5a50b1b77",
   "metadata": {
    "tags": []
   },
   "outputs": [],
   "source": [
    "list_two_letter_transfer = ['credit_transfer_cntry_code_ben', 'credit_transfer_ind_ben_name', 'credit_transfer_ind_ben_name_whtlst']"
   ]
  },
  {
   "cell_type": "code",
   "execution_count": 69,
   "id": "bffcb4e5-c83f-4499-bf39-1f781c40d4ed",
   "metadata": {},
   "outputs": [],
   "source": [
    "list_ten_letter_transfer = [\n",
    "'credit_transfer_settlement_remarks_line1', \n",
    "'credit_transfer_settlement_remarks_line2', \n",
    "'credit_transfer_settlement_remarks_line3',\n",
    "]"
   ]
  },
  {
   "cell_type": "code",
   "execution_count": 70,
   "id": "907f1fae-c8e8-4087-8a9b-558d9633c91d",
   "metadata": {
    "tags": []
   },
   "outputs": [],
   "source": [
    "full_na_list_transfer = [\n",
    "'credit_transfer_cntry_code_ord',\n",
    "'credit_transfer_ind_ben_name_dummy',\n",
    "'credit_transfer_ind_ord_cust_name',\n",
    "'credit_transfer_ind_ord_cust_adrs',\n",
    "'credit_transfer_third_party_address_line1',\n",
    "]"
   ]
  },
  {
   "cell_type": "code",
   "execution_count": 71,
   "id": "52ee1ced-db59-4c17-a9a7-a3af7a2e9257",
   "metadata": {
    "tags": []
   },
   "outputs": [],
   "source": [
    "anonymised_dict_transfer_remittance = [{'col': list_company_name_transfer, 'category': 'company'}, \n",
    "        {'col': list_two_letter_transfer, 'category': 'two_letters'}, \n",
    "        {'col': list_address_transfer, 'category': 'address'},\n",
    "        {'col': list_ten_letter_transfer, 'category': 'ten_letters'},\n",
    "        {'col': list_iban_transfer, 'category': 'iban_number'}\n",
    "]"
   ]
  },
  {
   "cell_type": "code",
   "execution_count": 72,
   "id": "a0e5e2d0-a9dc-40b7-9b15-fe1abf0c3b50",
   "metadata": {},
   "outputs": [
    {
     "name": "stdout",
     "output_type": "stream",
     "text": [
      "col credit_transfer_credit_account_reference\n"
     ]
    }
   ],
   "source": [
    "transfer_remittance_2022 = anonymizer_iban_prepro(transfer_remittance_2022, list_iban_transfer)"
   ]
  },
  {
   "cell_type": "code",
   "execution_count": 73,
   "id": "1905cf83-5e17-4de6-ad0c-a006947eef7a",
   "metadata": {
    "tags": []
   },
   "outputs": [
    {
     "name": "stdout",
     "output_type": "stream",
     "text": [
      "Anonymisation Time 10905.12080836296s\n"
     ]
    }
   ],
   "source": [
    "start = time.time()            \n",
    "transfer_remittance_anonymised, mapping = anonymizer(transfer_remittance_2022, anonymised_dict_transfer_remittance)\n",
    "stop = time.time()\n",
    "print(f'Anonymisation Time {stop - start}s')"
   ]
  },
  {
   "cell_type": "code",
   "execution_count": 74,
   "id": "df87e627-9108-450c-8d8e-cc1b823412e1",
   "metadata": {},
   "outputs": [
    {
     "name": "stdout",
     "output_type": "stream",
     "text": [
      "col credit_transfer_credit_account_reference\n",
      "Dropping col\n"
     ]
    }
   ],
   "source": [
    "transfer_remittance_anonymised = anonymizer_iban_post(transfer_remittance_anonymised, list_iban_transfer)"
   ]
  },
  {
   "cell_type": "code",
   "execution_count": 75,
   "id": "c70451ba-9192-4299-932d-6e385fc574ac",
   "metadata": {},
   "outputs": [],
   "source": [
    "real_data_dict['bd_transfer_remittance'] = transfer_remittance_anonymised"
   ]
  },
  {
   "cell_type": "markdown",
   "id": "c64d4d87-8b62-4d7f-8361-acc69efe16cd",
   "metadata": {},
   "source": [
    "### Relationship\n",
    "\n",
    "- int_bd_transfer_remittance.operational_unit = fccr.operational_unit\n",
    "- int_bd_transfer_remittance.credit_transfer_settlement_credit_account_pos_typ = int_bd_account.account_type\n",
    "- int_bd_transfer_remittance.credit_transfer_settlement_account_pos_num = int_bd_account.pos_id \n",
    "- int_bd_account. account_currency = int_bd_transfer_remittance. credit_transfer_credit_actual_crncy\n",
    "- int_bd_account.business_partner_id = int_bd_bpmainonscreen.business_partner_id \n",
    "- int_bd_bpmainonscreen.business_partner_id = int_bd_communication_address.business_partner_id"
   ]
  },
  {
   "cell_type": "markdown",
   "id": "dc517e39-3017-45dd-bd0e-47a145539f23",
   "metadata": {
    "execution": {
     "iopub.execute_input": "2023-09-02T18:20:29.450194Z",
     "iopub.status.busy": "2023-09-02T18:20:29.449376Z",
     "iopub.status.idle": "2023-09-02T18:20:29.625406Z",
     "shell.execute_reply": "2023-09-02T18:20:29.624282Z",
     "shell.execute_reply.started": "2023-09-02T18:20:29.450143Z"
    },
    "tags": []
   },
   "source": [
    "### 5) bd_dd_paid_in\n",
    "\n",
    "**company_name:**\n",
    "\n",
    "- debtor_name\n",
    "- ind_ord_cust_name\n",
    "- ind_ben_name\n",
    "- ind_ben_name_dummy\n",
    "- booking_type\n",
    "  \n",
    "**bdr_id:**\n",
    "- bdr_id\n",
    "\n",
    "**address:**\n",
    "\n",
    "- ind_ben_adrs\n",
    "- ind_ord_cust_adrs\n",
    "\n",
    "**country_code:**\n",
    "\n",
    "- cntry_code_ord\n",
    "- cntry_code_ben"
   ]
  },
  {
   "cell_type": "code",
   "execution_count": 76,
   "id": "ecae1149-2692-4c83-8d7a-7a469e3f6331",
   "metadata": {},
   "outputs": [],
   "source": [
    "dd_remittance_paid_in = real_data_dict['bd_dd_remittance_paidin']"
   ]
  },
  {
   "cell_type": "code",
   "execution_count": 77,
   "id": "4d1f1f09-0f38-4549-b814-28f92a3ec9c7",
   "metadata": {},
   "outputs": [],
   "source": [
    "list_company_name_dd = [\n",
    "'debtor_name',\n",
    "'ind_ord_cust_name',\n",
    "'ind_ben_name',\n",
    "'ind_ben_name_dummy',\n",
    "'booking_type',\n",
    "]"
   ]
  },
  {
   "cell_type": "code",
   "execution_count": 78,
   "id": "c269715a-07af-4bed-8301-f2547eacc865",
   "metadata": {},
   "outputs": [],
   "source": [
    "list_address_name_dd = [\n",
    "'ind_ben_adrs',\n",
    "'ind_ord_cust_adrs'\n",
    "]"
   ]
  },
  {
   "cell_type": "code",
   "execution_count": 79,
   "id": "d4629511-6829-4b59-8af5-1a191f4104f1",
   "metadata": {},
   "outputs": [],
   "source": [
    "list_country_code_dd = [\n",
    "'cntry_code_ben',\n",
    "'cntry_code_ord',    \n",
    "]"
   ]
  },
  {
   "cell_type": "code",
   "execution_count": 80,
   "id": "4f156771-ad33-452c-9280-7b816b9791be",
   "metadata": {},
   "outputs": [],
   "source": [
    "anonymised_dict_dd = [{'col': list_country_code_dd, 'category': 'country_code'},\n",
    "                                  {'col': list_company_name_dd, 'category': 'company'},\n",
    "                                  {'col': list_address_name_dd, 'category': 'address'},\n",
    "                                  {'col': ['bdr_id'], 'category': 'bdr_id'}\n",
    "]"
   ]
  },
  {
   "cell_type": "code",
   "execution_count": 81,
   "id": "a439fef6-e4d1-4be8-a90e-eafa91cf4eb6",
   "metadata": {},
   "outputs": [
    {
     "name": "stdout",
     "output_type": "stream",
     "text": [
      "Anonymisation Time 1354.113723039627s\n"
     ]
    }
   ],
   "source": [
    "start = time.time()            \n",
    "dd_remittance_paidin_anonymised, mapping = anonymizer(dd_remittance_paid_in, anonymised_dict_dd)\n",
    "stop = time.time()\n",
    "print(f'Anonymisation Time {stop - start}s')"
   ]
  },
  {
   "cell_type": "code",
   "execution_count": 82,
   "id": "96a6f19b-cf9e-4575-93fe-4ed96dc757ef",
   "metadata": {},
   "outputs": [],
   "source": [
    "real_data_dict['bd_dd_remittance_paidin'] = dd_remittance_paidin_anonymised"
   ]
  },
  {
   "cell_type": "markdown",
   "id": "dfc9eebe-cb50-4543-bbad-90b60e8b2d64",
   "metadata": {},
   "source": [
    "### 6) int_bd_party_details_paid_in\n",
    "\n",
    "**company_name:**\n",
    "- party_details_party_name\n",
    "- party_details_contact_name\n",
    "\n",
    "**address:**\n",
    "- party_details_adress_line1\n",
    "- party_details_adress_line2\n",
    "\n",
    "**full NA:**\n",
    "- party_details_party_bldg_nm\n",
    "- party_details_party_flr\n",
    "- party_details_party_pst_bx\n",
    "- party_details_party_room\n",
    "- party_details_party_twn_lctn_nm\n",
    "- party_details_party_dstrct_nm"
   ]
  },
  {
   "cell_type": "code",
   "execution_count": 83,
   "id": "413093ef-1eb4-4b0e-baf6-0f6181e7ac7e",
   "metadata": {},
   "outputs": [],
   "source": [
    "party_details_paidin = real_data_dict['bd_party_details_paidin'] "
   ]
  },
  {
   "cell_type": "code",
   "execution_count": 84,
   "id": "9329a0c3-c75e-42af-a225-2d7374dfe68d",
   "metadata": {},
   "outputs": [],
   "source": [
    "list_company_name_party = [\n",
    "'party_details_party_name',\n",
    "'party_details_contact_name'\n",
    "]"
   ]
  },
  {
   "cell_type": "code",
   "execution_count": 85,
   "id": "acd9043a-87c6-47db-ac9e-1e816524c6ac",
   "metadata": {},
   "outputs": [],
   "source": [
    "list_address_name_party = [\n",
    "'party_details_adress_line1',\n",
    "'party_details_adress_line2'\n",
    "]"
   ]
  },
  {
   "cell_type": "code",
   "execution_count": 86,
   "id": "3c280174-02ef-4e29-88c8-c380f70db739",
   "metadata": {},
   "outputs": [],
   "source": [
    "anonymised_dict_party_details_paidin = [{'col': list_company_name_party, 'category': 'company'},\n",
    "                                 {'col': list_address_name_party, 'category': 'address'},\n",
    "]"
   ]
  },
  {
   "cell_type": "code",
   "execution_count": 87,
   "id": "2bf54508-3d2c-46fd-8930-ed55ccea57e9",
   "metadata": {},
   "outputs": [
    {
     "name": "stdout",
     "output_type": "stream",
     "text": [
      "Anonymisation Time 1778.7428843975067s\n"
     ]
    }
   ],
   "source": [
    "start = time.time()            \n",
    "party_details_paidin_anonymised, mapping = anonymizer(party_details_paidin, anonymised_dict_party_details_paidin)\n",
    "stop = time.time()\n",
    "print(f'Anonymisation Time {stop - start}s')"
   ]
  },
  {
   "cell_type": "code",
   "execution_count": 88,
   "id": "360b9aaf-0744-45b6-a576-79f3d18fa667",
   "metadata": {},
   "outputs": [],
   "source": [
    "real_data_dict['bd_party_details_paidin'] = party_details_paidin_anonymised "
   ]
  },
  {
   "cell_type": "markdown",
   "id": "9bc0301e-700c-4e5a-82db-729a17ce9fed",
   "metadata": {},
   "source": [
    "### 7) int bd_dd_paid_out\n",
    "\n",
    "**company_name:**\n",
    "- creditor_name\n",
    "- ind_ben_name \n",
    "\n",
    "**10 Letters:**\n",
    "- creditor_account_reference \n",
    "- creditor_bank_identifier \n",
    "- creditor_account\n",
    "- reciever_info_line1 \n",
    "- reciever_info_line2 \n",
    " \n",
    "**2 Letter:**\n",
    "- ind_ord_cust_account\n",
    "- ind_ord_cust_name \n",
    "- ind_ord_cust_adrs \n",
    "- ind_ben_adrs\n",
    "- ind_ord_name_whtlst\n",
    "- ind_ben_name_whtlst \n",
    "\n",
    "**country_code:**\n",
    "- cntry_code_ord \n",
    "- cntry_code_ben \n",
    "\n",
    "**bdr_id:**\n",
    "- bdr_id\n",
    "\n",
    "**Full Null Columns:**\n",
    "- ind_ord_name_dummy \n",
    "- ind_ben_name_dummy\n",
    "- reciever_info_line3\n",
    "- reciever_info_line4\n",
    "- reciever_info_line5\n",
    "- reciever_info_line6"
   ]
  },
  {
   "cell_type": "code",
   "execution_count": 89,
   "id": "5c2140f8-98ea-4114-bc50-4d5e1077405a",
   "metadata": {},
   "outputs": [],
   "source": [
    "dd_paid_out = real_data_dict['bd_dd_paidout']"
   ]
  },
  {
   "cell_type": "code",
   "execution_count": 125,
   "id": "7dc64979-e1b5-4dba-9752-1c6f0abf6715",
   "metadata": {},
   "outputs": [],
   "source": [
    "list_company_name_dd = [\n",
    "'creditor_name',\n",
    "'ind_ben_name'\n",
    "]"
   ]
  },
  {
   "cell_type": "code",
   "execution_count": null,
   "id": "8d9d5ae5-f50c-4f11-8e43-5cc4b5fe35ac",
   "metadata": {},
   "outputs": [],
   "source": [
    "list_10_letters_dd = [\n",
    "'creditor_bank_identifier',\n",
    "'reciever_info_line1',\n",
    "'reciever_info_line2',\n",
    "]"
   ]
  },
  {
   "cell_type": "code",
   "execution_count": null,
   "id": "358f4ebc-ef02-49e3-9f1a-5e9538443df8",
   "metadata": {},
   "outputs": [],
   "source": [
    "list_2_letters_dd = [\n",
    "'ind_ord_cust_account',\n",
    "'ind_ord_cust_name',\n",
    "'ind_ord_cust_adrs',\n",
    "'ind_ben_adrs',\n",
    "'ind_ord_name_whtlst',\n",
    "'ind_ben_name_whtlst', \n",
    "]"
   ]
  },
  {
   "cell_type": "code",
   "execution_count": null,
   "id": "4ee7ee60-9f32-4e57-ae52-a77ef1939742",
   "metadata": {},
   "outputs": [],
   "source": [
    "list_country_code_dd = [\n",
    "'cntry_code_ord',\n",
    "'cntry_code_ben'\n",
    "]"
   ]
  },
  {
   "cell_type": "code",
   "execution_count": null,
   "id": "0a9d0d92-0b19-4934-bd8b-cdb8110ecc56",
   "metadata": {},
   "outputs": [],
   "source": [
    "anonymised_dict_dd = [{'col': list_company_name_dd, 'category': 'company'},\n",
    "                      {'col': list_10_letters_dd, 'category': 'ten_letters'},\n",
    "                      {'col': list_2_letters_dd, 'category': 'two_letters'},\n",
    "                      {'col': list_country_code_dd, 'category': 'country_code'},\n",
    "                      {'col': ['bdr_id'], 'category': 'bdr_id'},\n",
    "]"
   ]
  },
  {
   "cell_type": "code",
   "execution_count": null,
   "id": "2fa2a013-20d0-421a-af09-5a8714f8dc9d",
   "metadata": {},
   "outputs": [],
   "source": [
    "list_iban_paidout = [\n",
    "'creditor_account',\n",
    "'creditor_account_reference'\n",
    "]"
   ]
  },
  {
   "cell_type": "code",
   "execution_count": null,
   "id": "341ee6e9-b6bd-4807-9874-b6cc5a337971",
   "metadata": {},
   "outputs": [
    {
     "name": "stdout",
     "output_type": "stream",
     "text": [
      "col creditor_account\n",
      "col creditor_account_reference\n",
      "Anonymisation IBAN Prepro Time 1.2719454765319824s\n"
     ]
    }
   ],
   "source": [
    "start = time.time()\n",
    "dd_paidout_anonymised = anonymizer_iban_prepro(dd_paid_out, list_iban_paidout)\n",
    "stop = time.time()\n",
    "print(f'Anonymisation IBAN Prepro Time {stop - start}s')"
   ]
  },
  {
   "cell_type": "code",
   "execution_count": null,
   "id": "ca0cd183-d5eb-4ce4-8ed4-69e7bd732bc4",
   "metadata": {},
   "outputs": [
    {
     "name": "stdout",
     "output_type": "stream",
     "text": [
      "Anonymisation IBAN Post Time 75.19976282119751s\n"
     ]
    }
   ],
   "source": [
    "start = time.time()            \n",
    "dd_paidout_anonymised, mapping = anonymizer(dd_paidout_anonymised, anonymised_dict_dd)\n",
    "stop = time.time()\n",
    "print(f'Anonymisation IBAN Post Time {stop - start}s')"
   ]
  },
  {
   "cell_type": "code",
   "execution_count": null,
   "id": "b28952eb-898f-42ac-86b2-ffea06a7dbd6",
   "metadata": {},
   "outputs": [
    {
     "name": "stdout",
     "output_type": "stream",
     "text": [
      "col creditor_account\n",
      "Dropping col\n",
      "col creditor_account_reference\n",
      "Dropping col\n",
      "Anonymisation Time 12.486927270889282s\n"
     ]
    }
   ],
   "source": [
    "start = time.time()\n",
    "dd_paidout_anonymised = anonymizer_iban_post(dd_paidout_anonymised, list_iban_paidout)\n",
    "stop = time.time()\n",
    "print(f'Anonymisation Time {stop - start}s')"
   ]
  },
  {
   "cell_type": "code",
   "execution_count": null,
   "id": "b1b8d89e-ec49-4071-8514-38566ef3bed8",
   "metadata": {},
   "outputs": [],
   "source": [
    "real_data_dict['bd_dd_paidout'] = dd_paidout_anonymised"
   ]
  },
  {
   "cell_type": "markdown",
   "id": "9dc7711c-12f9-4851-bcef-3661bced7818",
   "metadata": {},
   "source": [
    "### 8) int_bd_party_details_paid_out\n",
    "\n",
    "**company_name:**\n",
    "- party_name\n",
    "- party_account_identifier_name\n",
    "\n",
    "**address:**\n",
    "- party_adress_line1\n",
    "- party_adress_line2\n",
    "\n",
    "**iban:**\n",
    "- party_identifier_id\n",
    "\n",
    "**full NA:**\n",
    "- party_contact_name\n",
    "- party_bldg_nm\n",
    "- party_flr\n",
    "- party_pst_bx\n",
    "- party_room\n",
    "- party_twn_lctn_nm\n",
    "- party_dstrct_nmcount_identifier_name'\r\n",
    "]\r\n"
   ]
  },
  {
   "cell_type": "code",
   "execution_count": null,
   "id": "372e7be8-f069-418f-a213-66452379a929",
   "metadata": {},
   "outputs": [],
   "source": [
    "party_details_paidout = real_data_dict['bd_party_details_paidout']"
   ]
  },
  {
   "cell_type": "code",
   "execution_count": null,
   "id": "763bd3d2-f22b-40e0-a0fe-b95b8934a283",
   "metadata": {},
   "outputs": [],
   "source": [
    "list_company_name_party = [\n",
    "'party_name',\n",
    "'party_account_identifier_name'\n",
    "]"
   ]
  },
  {
   "cell_type": "code",
   "execution_count": null,
   "id": "4ef07992-6591-4de7-b0bb-c547eecac7d6",
   "metadata": {},
   "outputs": [],
   "source": [
    "list_address_name_party = [\n",
    "'party_adress_line1',\n",
    "'party_adress_line2'\n",
    "]"
   ]
  },
  {
   "cell_type": "code",
   "execution_count": null,
   "id": "8690dfbe-b5fb-4a15-ad72-521529871522",
   "metadata": {},
   "outputs": [],
   "source": [
    "list_iban_party = [\n",
    "'party_identifier_id'\n",
    "]"
   ]
  },
  {
   "cell_type": "code",
   "execution_count": null,
   "id": "55fa296c-2470-4ca3-b939-79d2fc9a449e",
   "metadata": {},
   "outputs": [],
   "source": [
    "anonymised_dict_party_details = [{'col': list_company_name_party, 'category': 'company'},\n",
    "                                 {'col': list_address_name_party, 'category': 'address'},\n",
    "                                 {'col': list_iban_party, 'category': 'iban_number'},\n",
    "]"
   ]
  },
  {
   "cell_type": "code",
   "execution_count": null,
   "id": "0633447f-4754-4cdf-b65c-97f56ea9584b",
   "metadata": {},
   "outputs": [
    {
     "name": "stdout",
     "output_type": "stream",
     "text": [
      "col party_identifier_id\n",
      "Anonymisation IBAN Prepro Time 1.9297809600830078s\n"
     ]
    }
   ],
   "source": [
    "start = time.time()            \n",
    "party_details_paidout = anonymizer_iban_prepro(party_details_paidout, list_iban_party)\n",
    "stop = time.time()\n",
    "print(f'Anonymisation IBAN Prepro Time {stop - start}s')"
   ]
  },
  {
   "cell_type": "code",
   "execution_count": null,
   "id": "49d89ab4-f628-4bfe-8448-21853b3484d6",
   "metadata": {},
   "outputs": [
    {
     "name": "stdout",
     "output_type": "stream",
     "text": [
      "Anonymisation Time 164.5794014930725s\n"
     ]
    }
   ],
   "source": [
    "start = time.time() \n",
    "party_details_paidout_anonymised, mapping = anonymizer(party_details_paidout, anonymised_dict_party_details)\n",
    "stop = time.time()\n",
    "print(f'Anonymisation Time {stop - start}s')"
   ]
  },
  {
   "cell_type": "code",
   "execution_count": null,
   "id": "aac44502-9d66-41ee-8da2-2ff98ba2c79f",
   "metadata": {},
   "outputs": [
    {
     "name": "stdout",
     "output_type": "stream",
     "text": [
      "col party_identifier_id\n",
      "Dropping col\n",
      "Anonymisation IBAN Post Time 9.248136043548584s\n"
     ]
    }
   ],
   "source": [
    "start = time.time() \n",
    "party_details_paidout_anonymised = anonymizer_iban_post(party_details_paidout_anonymised, list_iban_party)\n",
    "stop = time.time()\n",
    "print(f'Anonymisation IBAN Post Time {stop - start}s')"
   ]
  },
  {
   "cell_type": "code",
   "execution_count": null,
   "id": "f1946061-67b4-4f7f-9d72-b1dce829123d",
   "metadata": {},
   "outputs": [],
   "source": [
    "real_data_dict['bd_party_details_paidout'] = party_details_paidout_anonymised"
   ]
  },
  {
   "cell_type": "markdown",
   "id": "e25c0667-3a7c-4743-a05c-e64d46b02be6",
   "metadata": {},
   "source": [
    "### Anonymisation Multi RelationShip"
   ]
  },
  {
   "cell_type": "markdown",
   "id": "5a836d1d-4cbf-4b41-a4d5-ec1074fff88d",
   "metadata": {},
   "source": [
    "- bd_account.iban_number = remittance_paidin.account\n",
    "- bd_account.external_reference_1 = remittance_paidin.debtor_account\n",
    "- bd_account.iban_number = bd_dd_paidout.pos_id"
   ]
  },
  {
   "cell_type": "code",
   "execution_count": null,
   "id": "667b8548-10ba-4722-a414-27faa0bbc22e",
   "metadata": {},
   "outputs": [
    {
     "data": {
      "text/plain": [
       "\"\\nsample_data_dict = {}\\nfor table_name, data in real_data_dict.items():\\n    print(f'table_name : {table_name}, shape: {data.shape}')\\n    if table_name == 'bd_communication_address':\\n        pass\\n    elif table_name == 'rd_fccr_clear_system':\\n        pass\\n    else: \\n        sample_data_dict[table_name] = data.sample(n = 5000)\\n\""
      ]
     },
     "execution_count": 109,
     "metadata": {},
     "output_type": "execute_result"
    }
   ],
   "source": [
    "\"\"\"\n",
    "sample_data_dict = {}\n",
    "for table_name, data in real_data_dict.items():\n",
    "    print(f'table_name : {table_name}, shape: {data.shape}')\n",
    "    if table_name == 'bd_communication_address':\n",
    "        pass\n",
    "    elif table_name == 'rd_fccr_clear_system':\n",
    "        pass\n",
    "    else: \n",
    "        sample_data_dict[table_name] = data.sample(n = 5000)\n",
    "\"\"\""
   ]
  },
  {
   "cell_type": "code",
   "execution_count": null,
   "id": "a986bb21-906d-4def-95bd-25d999228bd8",
   "metadata": {},
   "outputs": [],
   "source": [
    "real_data_dict['bd_dd_remittance_paidin']['iban_number'] = real_data_dict['bd_dd_remittance_paidin']['account']"
   ]
  },
  {
   "cell_type": "code",
   "execution_count": null,
   "id": "f3ef9424-edab-4442-b52a-0d27aecf9dcd",
   "metadata": {
    "scrolled": true
   },
   "outputs": [],
   "source": [
    "real_data_dict['bd_dd_remittance_paidin']['external_reference_1'] = real_data_dict['bd_dd_remittance_paidin']['debtor_account']"
   ]
  },
  {
   "cell_type": "code",
   "execution_count": null,
   "id": "3457c25f-e738-4410-9678-ef672e5ac791",
   "metadata": {},
   "outputs": [],
   "source": [
    "real_data_dict['bd_dd_paidout']['iban_number'] = real_data_dict['bd_dd_paidout']['pos_id']"
   ]
  },
  {
   "cell_type": "code",
   "execution_count": null,
   "id": "4d32dfe5-278b-41bc-a388-b33c09790384",
   "metadata": {},
   "outputs": [],
   "source": [
    "anonymised_dict_multi_1 =  [{'table_name_list': ['bd_account', 'bd_dd_remittance_paidin', 'bd_dd_paidout'], 'col': ['iban_number'], 'category': 'iban_number'}, \n",
    "]"
   ]
  },
  {
   "cell_type": "code",
   "execution_count": null,
   "id": "5bd356dd-38f3-4a75-828e-9223ced3c9ed",
   "metadata": {},
   "outputs": [],
   "source": [
    "anonymised_dict_multi_2 =  [{'table_name_list': ['bd_account', 'bd_dd_remittance_paidin'], 'col': ['external_reference_1'], 'category': 'iban_number'}, \n",
    "]"
   ]
  },
  {
   "cell_type": "code",
   "execution_count": null,
   "id": "bcebb4cc-cb6e-4ac6-b4de-9b53aabf3364",
   "metadata": {},
   "outputs": [
    {
     "name": "stdout",
     "output_type": "stream",
     "text": [
      "{'table_name_list': ['bd_account', 'bd_dd_remittance_paidin', 'bd_dd_paidout'], 'col': ['iban_number'], 'category': 'iban_number'}\n",
      "bd_account\n",
      "col iban_number\n",
      "Anonymisation bd_account Time 0.141646146774292s\n",
      "bd_dd_remittance_paidin\n",
      "col iban_number\n",
      "Anonymisation bd_dd_remittance_paidin Time 1.1888279914855957s\n",
      "bd_dd_paidout\n",
      "col iban_number\n",
      "Anonymisation bd_dd_paidout Time 0.6270508766174316s\n"
     ]
    }
   ],
   "source": [
    "for anonym_dict in anonymised_dict_multi_1:\n",
    "    print(anonym_dict)\n",
    "    for table_name in anonym_dict['table_name_list']:\n",
    "        print(table_name)\n",
    "        start = time.time()\n",
    "        real_data_dict[table_name] = anonymizer_iban_prepro(real_data_dict[table_name], anonym_dict['col'])\n",
    "        stop = time.time()\n",
    "        print(f'Anonymisation {table_name} Time {stop - start}s')"
   ]
  },
  {
   "cell_type": "code",
   "execution_count": null,
   "id": "a6c608e7-e7ef-4aae-85b6-35e163b01422",
   "metadata": {},
   "outputs": [
    {
     "name": "stdout",
     "output_type": "stream",
     "text": [
      "{'table_name_list': ['bd_account', 'bd_dd_remittance_paidin'], 'col': ['external_reference_1'], 'category': 'iban_number'}\n",
      "col external_reference_1\n",
      "Anonymisation bd_account Time 0.07944679260253906s\n",
      "col external_reference_1\n",
      "Anonymisation bd_dd_remittance_paidin Time 1.6807012557983398s\n"
     ]
    }
   ],
   "source": [
    "for anonym_dict in anonymised_dict_multi_2:\n",
    "    print(anonym_dict)\n",
    "    for table_name in anonym_dict['table_name_list']:\n",
    "        start = time.time()\n",
    "        real_data_dict[table_name] = anonymizer_iban_prepro(real_data_dict[table_name], anonym_dict['col'])\n",
    "        stop = time.time()\n",
    "        print(f'Anonymisation {table_name} Time {stop - start}s')"
   ]
  },
  {
   "cell_type": "code",
   "execution_count": null,
   "id": "ff0a444d-84a0-4c72-8e69-9afbec881d23",
   "metadata": {},
   "outputs": [
    {
     "name": "stdout",
     "output_type": "stream",
     "text": [
      "col iban_number\n",
      "table bd_account\n",
      "table bd_dd_remittance_paidin\n",
      "table bd_dd_paidout\n",
      "Anonymisation Time 959.0857992172241s\n"
     ]
    }
   ],
   "source": [
    "start = time.time()\n",
    "real_data_dict_anonymised, mapping_multi = anonymizer_multi(real_data_dict, anonymised_dict_multi_1)\n",
    "stop = time.time()\n",
    "print(f'Anonymisation Time {stop - start}s')"
   ]
  },
  {
   "cell_type": "code",
   "execution_count": null,
   "id": "b5d58049-ffc7-42b3-8ce8-0f5a9edb2984",
   "metadata": {},
   "outputs": [
    {
     "name": "stdout",
     "output_type": "stream",
     "text": [
      "col external_reference_1\n",
      "table bd_account\n",
      "table bd_dd_remittance_paidin\n",
      "Anonymisation Time -0.004858970642089844s\n"
     ]
    }
   ],
   "source": [
    "start = time.time()\n",
    "real_data_dict_anonymised, mapping_multi = anonymizer_multi(real_data_dict, anonymised_dict_multi_2)\n",
    "print(f'Anonymisation Time {stop - start}s')"
   ]
  },
  {
   "cell_type": "code",
   "execution_count": null,
   "id": "1cdf1972-dcad-47d8-be93-a470f3d3df08",
   "metadata": {},
   "outputs": [
    {
     "name": "stdout",
     "output_type": "stream",
     "text": [
      "{'table_name_list': ['bd_account', 'bd_dd_remittance_paidin', 'bd_dd_paidout'], 'col': ['iban_number'], 'category': 'iban_number'}\n",
      "bd_account\n",
      "col iban_number\n",
      "Dropping col\n",
      "Anonymisation bd_account Time 0.7435026168823242s\n",
      "bd_dd_remittance_paidin\n",
      "col iban_number\n",
      "Dropping col\n",
      "Anonymisation bd_dd_remittance_paidin Time 14.988747835159302s\n",
      "bd_dd_paidout\n",
      "col iban_number\n",
      "Dropping col\n",
      "Anonymisation bd_dd_paidout Time 6.804426670074463s\n"
     ]
    }
   ],
   "source": [
    "for anonym_dict in anonymised_dict_multi_1:\n",
    "    print(anonym_dict)\n",
    "    for table_name in anonym_dict['table_name_list']:\n",
    "        print(table_name)\n",
    "        start = time.time()\n",
    "        real_data_dict[table_name] = anonymizer_iban_post(real_data_dict[table_name], anonym_dict['col'])\n",
    "        stop = time.time()\n",
    "        print(f'Anonymisation {table_name} Time {stop - start}s')"
   ]
  },
  {
   "cell_type": "code",
   "execution_count": null,
   "id": "f2496ae7-1e2e-49a9-afe0-cb80a2e4fc68",
   "metadata": {},
   "outputs": [
    {
     "name": "stdout",
     "output_type": "stream",
     "text": [
      "{'table_name_list': ['bd_account', 'bd_dd_remittance_paidin'], 'col': ['external_reference_1'], 'category': 'iban_number'}\n",
      "bd_account\n",
      "col external_reference_1\n",
      "Dropping col\n",
      "Anonymisation bd_account Time 0.7885088920593262s\n",
      "bd_dd_remittance_paidin\n",
      "col external_reference_1\n",
      "Dropping col\n",
      "Anonymisation bd_dd_remittance_paidin Time 17.498265981674194s\n"
     ]
    }
   ],
   "source": [
    "for anonym_dict in anonymised_dict_multi_2:\n",
    "    print(anonym_dict)\n",
    "    for table_name in anonym_dict['table_name_list']:\n",
    "        print(table_name)\n",
    "        start = time.time()\n",
    "        real_data_dict[table_name] = anonymizer_iban_post(real_data_dict[table_name], anonym_dict['col'])\n",
    "        stop = time.time()\n",
    "        print(f'Anonymisation {table_name} Time {stop - start}s')"
   ]
  },
  {
   "cell_type": "markdown",
   "id": "4743e57f-d51b-422d-a31b-522e37133b77",
   "metadata": {},
   "source": [
    "### Write Parquet Anonymised Data"
   ]
  },
  {
   "cell_type": "code",
   "execution_count": 10,
   "id": "d8909411-663e-4ad2-84ce-3efec035c764",
   "metadata": {},
   "outputs": [],
   "source": [
    "tracking_id_anonym = 'gtps_fccr_model_anonym_v2'"
   ]
  },
  {
   "cell_type": "code",
   "execution_count": 11,
   "id": "6997973e-6112-4ae7-a80c-a5cd61e63c44",
   "metadata": {},
   "outputs": [],
   "source": [
    "anonymised_path_bd_account = f'a495587/original_data/original_{tracking_id_anonym}/int_bd_account/data/bd_account_anonym.parquet'\n",
    "anonymised_path_bpmainonscreen = f'a495587/original_data/original_{tracking_id_anonym}/int_bd_bpmainonscreen/data/bpmainonscreen_anonym.parquet'\n",
    "anonymised_path_communication_address = f'a495587/original_data/original_{tracking_id_anonym}/int_bd_communication_address/data/communication_address_anonym.parquet'\n",
    "anonymised_path_transfer_remittance = f'a495587/original_data/original_{tracking_id_anonym}/int_bd_transfer_remittance/data/bd_remittance_anonym.parquet'\n",
    "anonymised_path_dd_paidin = f'a495587/original_data/original_{tracking_id_anonym}/int_bd_dd_remittance_paidin/data/dd_remittance_paidin_anonym.parquet'\n",
    "anonymised_path_party_details_paidin = f'a495587/original_data/original_{tracking_id_anonym}/int_bd_party_details_paidin/data/party_details_anonym.parquet'\n",
    "anonymised_path_dd_paidout = f'a495587/original_data/original_{tracking_id_anonym}/int_bd_dd_paidout/data/dd_paidout_anonym.parquet'\n",
    "anonymised_path_party_details_paidout = f'a495587/original_data/original_{tracking_id_anonym}/int_bd_party_details_paidout/data/party_details_anonym.parquet'"
   ]
  },
  {
   "cell_type": "code",
   "execution_count": null,
   "id": "71c13496-012a-4c15-81ee-dbb50633abec",
   "metadata": {},
   "outputs": [],
   "source": [
    "save_dict = {'bd_account': anonymised_path_bd_account, 'bd_bpmainonscreen': anonymised_path_bpmainonscreen, \n",
    "             'bd_communication_address': anonymised_path_communication_address, 'bd_transfer_remittance': anonymised_path_transfer_remittance,\n",
    "             'bd_dd_remittance_paidin': anonymised_path_dd_paidin, 'bd_party_details_paidin': anonymised_path_party_details_paidin,\n",
    "             'bd_dd_paidout': anonymised_path_dd_paidout, 'bd_party_details_paidout': anonymised_path_party_details_paidout\n",
    "            }"
   ]
  },
  {
   "cell_type": "code",
   "execution_count": null,
   "id": "d47fc922-4ef5-44b5-bdc1-123b0f52b77e",
   "metadata": {},
   "outputs": [],
   "source": [
    "for table_name, path in save_dict.items():\n",
    "    s3_connector.write_parquet(path, real_data_dict[table_name])"
   ]
  },
  {
   "cell_type": "code",
   "execution_count": null,
   "id": "ef8bca4c-c1df-4a82-9250-7d14011b772b",
   "metadata": {},
   "outputs": [],
   "source": []
  },
  {
   "cell_type": "markdown",
   "id": "2ab193f3-a436-4bbd-a89a-54bb87c744aa",
   "metadata": {},
   "source": [
    "### Check Joining conditions between Bd_account & Dd_paidout"
   ]
  },
  {
   "cell_type": "code",
   "execution_count": 12,
   "id": "b05808ff-20fd-4977-8907-99769141b43d",
   "metadata": {},
   "outputs": [],
   "source": [
    "test_bd_account = read_parquet(s3_connector, anonymised_path_bd_account)"
   ]
  },
  {
   "cell_type": "code",
   "execution_count": 13,
   "id": "2b1d3eb7-c2ad-45f1-b8a0-55b8e06c2803",
   "metadata": {},
   "outputs": [],
   "source": [
    "test_dd_paidout = read_parquet(s3_connector, anonymised_path_dd_paidout)"
   ]
  },
  {
   "cell_type": "code",
   "execution_count": 24,
   "id": "04baed71-78b8-4776-a56e-e6a44fce0dc7",
   "metadata": {},
   "outputs": [],
   "source": [
    "isin_bd_account = test_bd_account[test_bd_account['iban_number'].isin(test_dd_paidout['pos_id'])]"
   ]
  },
  {
   "cell_type": "code",
   "execution_count": 25,
   "id": "5477a268-306a-4cd5-b63d-697f8a28f94f",
   "metadata": {},
   "outputs": [
    {
     "data": {
      "text/plain": [
       "(7761, 94)"
      ]
     },
     "execution_count": 25,
     "metadata": {},
     "output_type": "execute_result"
    }
   ],
   "source": [
    "isin_bd_account.shape"
   ]
  },
  {
   "cell_type": "code",
   "execution_count": 22,
   "id": "8c1731fa-b749-4ff1-9631-e9924a400404",
   "metadata": {},
   "outputs": [],
   "source": [
    "isin_dd_paidout = test_dd_paidout[test_dd_paidout['pos_id'].isin(test_bd_account['iban_number'])]"
   ]
  },
  {
   "cell_type": "code",
   "execution_count": 23,
   "id": "798ed7af-2ae9-4cfe-b95e-c8c09fdbf488",
   "metadata": {},
   "outputs": [
    {
     "data": {
      "text/plain": [
       "(1, 97)"
      ]
     },
     "execution_count": 23,
     "metadata": {},
     "output_type": "execute_result"
    }
   ],
   "source": [
    "isin_dd_paidout.shape"
   ]
  },
  {
   "cell_type": "code",
   "execution_count": null,
   "id": "32756dcd-19bb-4ca9-9c69-529a77833cb0",
   "metadata": {},
   "outputs": [],
   "source": []
  }
 ],
 "metadata": {
  "kernelspec": {
   "display_name": "sdg",
   "language": "python",
   "name": "sdg"
  },
  "language_info": {
   "codemirror_mode": {
    "name": "ipython",
    "version": 3
   },
   "file_extension": ".py",
   "mimetype": "text/x-python",
   "name": "python",
   "nbconvert_exporter": "python",
   "pygments_lexer": "ipython3",
   "version": "3.10.4"
  }
 },
 "nbformat": 4,
 "nbformat_minor": 5
}
