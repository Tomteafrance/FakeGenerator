{
 "cells": [
  {
   "cell_type": "code",
   "execution_count": 25,
   "id": "eae4bf86-59d4-46ae-b5e4-b0c85f23e223",
   "metadata": {},
   "outputs": [],
   "source": [
    "import time \n",
    "import random\n",
    "from random import randint\n",
    "import numpy as np \n",
    "import pandas as pd \n",
    "from faker import Faker\n",
    "from faker.providers import BaseProvider"
   ]
  },
  {
   "cell_type": "code",
   "execution_count": 2,
   "id": "73f1798e-8b7e-44b3-9727-e7729b6a902c",
   "metadata": {},
   "outputs": [],
   "source": [
    "def random_with_N_digits(n):\n",
    "    range_start = 10**(n-1)\n",
    "    range_end = (10**n)-1\n",
    "    return randint(range_start, range_end)"
   ]
  },
  {
   "cell_type": "code",
   "execution_count": 3,
   "id": "377dad4c-be46-40be-a27f-d24d9df3198d",
   "metadata": {},
   "outputs": [],
   "source": [
    "class CustomProvider:\n",
    "    @classmethod\n",
    "    def bdr_id(cls):\n",
    "        faker = Faker()\n",
    "        return faker.pystr_format(\"#########{{random_int}}\") \n",
    "\n",
    "    @classmethod\n",
    "    def iban_number(cls):\n",
    "        faker = Faker()\n",
    "        fake_iban = faker.country_code() + str(random_with_N_digits(2)) + faker.pystr(max_chars = 4).upper() + str(random_with_N_digits(6)) + str(random_with_N_digits(8))\n",
    "        return fake_iban.upper() \n",
    "    \n",
    "    @classmethod\n",
    "    def id_class(cls):\n",
    "        faker = Faker()\n",
    "        return faker.pystr_format(\"#####{{random_int}}\") \n",
    "    \n",
    "    @classmethod\n",
    "    def account_currency(cls):\n",
    "        faker = Faker()\n",
    "        return faker.pystr(max_chars = 3).upper()\n",
    "\n",
    "    @classmethod\n",
    "    def ten_letters(cls):\n",
    "        faker = Faker()\n",
    "        return faker.pystr(max_chars = 10).upper()\n",
    "    \n",
    "    @classmethod\n",
    "    def two_letters(cls):\n",
    "        faker = Faker()\n",
    "        return faker.pystr(max_chars = 2).upper()\n",
    "    \n",
    "    @classmethod\n",
    "    def one_letter(cls):\n",
    "        faker = Faker()\n",
    "        return faker.pystr(max_chars = 1).upper()\n",
    "    \n",
    "    @classmethod\n",
    "    def num_compte(cls):\n",
    "        faker = Faker()\n",
    "        return faker.country_code() + str(random_with_N_digits(25))"
   ]
  },
  {
   "cell_type": "code",
   "execution_count": 4,
   "id": "ec7f84c1-c435-4085-9753-a5b795b1c154",
   "metadata": {},
   "outputs": [],
   "source": [
    "faker = Faker()\n",
    "faker.add_provider(CustomProvider())"
   ]
  },
  {
   "cell_type": "code",
   "execution_count": 5,
   "id": "ce7c1491-3c52-4c78-b325-06abc32a4742",
   "metadata": {},
   "outputs": [
    {
     "data": {
      "text/plain": [
       "'KN'"
      ]
     },
     "execution_count": 5,
     "metadata": {},
     "output_type": "execute_result"
    }
   ],
   "source": [
    "faker.country_code()"
   ]
  },
  {
   "cell_type": "code",
   "execution_count": 6,
   "id": "f221cca6-dc4d-440d-b1b3-feb420f51fe8",
   "metadata": {},
   "outputs": [],
   "source": [
    "#getattr(faker.unique, faker.country_code())"
   ]
  },
  {
   "cell_type": "code",
   "execution_count": 8,
   "id": "b0cf3fb8-ac36-499d-a989-8e44bce4314d",
   "metadata": {},
   "outputs": [],
   "source": [
    "test = []\n",
    "for i in range(10):\n",
    "    test.append(getattr(faker.unique, 'iban_number')())"
   ]
  },
  {
   "cell_type": "code",
   "execution_count": null,
   "id": "7ea857ef-ffb5-40a5-b88d-47ee2e082512",
   "metadata": {},
   "outputs": [],
   "source": [
    "def anonymizer(data, list_anonymised_dict):\n",
    "    \"\"\"\n",
    "    Args:\n",
    "        data (pandas.DataFrame)\n",
    "            dataframe to anonymise\n",
    "        list_anonymised_dict (list of dictionary)\n",
    "            list of dictionary containing key as columns to anonymise & value as Faker category\n",
    "    Returns:\n",
    "        data (pandas.DataFrame)\n",
    "            dataframe anonymised\n",
    "        mapping (dictionary)\n",
    "            mapping containing key as original value & value as anonymised value\n",
    "    \"\"\"\n",
    "    mapping = {}\n",
    "    for anonymised_dict in list_anonymised_dict:\n",
    "        category = anonymised_dict['category']\n",
    "        for col in anonymised_dict['col']:\n",
    "            faker_unique_list = []\n",
    "            unique_value = list((data[col]).unique())\n",
    "            faker = Faker()\n",
    "            faker.add_provider(CustomProvider())\n",
    "            for i in range(len(unique_value)): \n",
    "                faker_unique_list.append(getattr(faker.unique, category)())\n",
    "            mapping_anonymised = dict(zip(unique_value, faker_unique_list))\n",
    "            mapping[col] = mapping_anonymised\n",
    "            data[col] = data[col].map(mapping_anonymised)\n",
    "    return data, mapping"
   ]
  },
  {
   "cell_type": "code",
   "execution_count": null,
   "id": "2e3997da-55ea-492f-8f91-3a5f50274dfb",
   "metadata": {},
   "outputs": [],
   "source": [
    "def anonymizer_multi(data_dict, anonymised_list):\n",
    "    \"\"\"\n",
    "    Args:\n",
    "        data_dict (dictionary of pandas.DataFrame)\n",
    "            dictionary of dataframe to anonymise\n",
    "        anonymised_list (list of dictionary)\n",
    "            list of dictionary containing key as columns to anonymise & value as Faker category\n",
    "    Returns:\n",
    "        data (pandas.DataFrame)\n",
    "            dataframe anonymised\n",
    "    \"\"\"\n",
    "    mapping_multi = {}\n",
    "    for table_name in data_dict:\n",
    "        mapping_multi[table_name] = {}\n",
    "    for anonymised_dict in anonymised_list:\n",
    "        faker = Faker()\n",
    "        faker.add_provider(CustomProvider())        \n",
    "        for col in anonymised_dict['col']:\n",
    "            print('col', col)\n",
    "            unique_value = []\n",
    "            faker_unique_list = []\n",
    "            for table_name in anonymised_dict['table_name_list']:\n",
    "                print('table', table_name)\n",
    "                unique_value += list((data_dict[table_name][col]).unique())\n",
    "\n",
    "                for i in range(len(unique_value)): \n",
    "                    faker_unique_list.append(getattr(faker.unique, anonymised_dict['category'])())\n",
    "            \n",
    "            mapping_anonymised = dict(zip(unique_value, faker_unique_list))\n",
    "            for table_name in anonymised_dict['table_name_list']:\n",
    "                mapping_multi[table_name][col] = mapping_anonymised\n",
    "                data_dict[table_name][col] = data_dict[table_name][col].map(mapping_anonymised)\n",
    "    return data_dict, mapping_multi "
   ]
  },
  {
   "cell_type": "code",
   "execution_count": null,
   "id": "384228b5-e804-4058-8d91-73c9c2049136",
   "metadata": {},
   "outputs": [],
   "source": [
    "def anonymizer_iban_prepro(data, list_col):\n",
    "    \"\"\"\n",
    "    Args:\n",
    "        data (pandas.DataFrame)\n",
    "        list_col (list of string)\n",
    "            list of col to anonymize\n",
    "    Returns:\n",
    "        data anonymized (pandas.DataFrame)\n",
    "    \"\"\"\n",
    "    for col in list_col:\n",
    "        print('col', col)\n",
    "        data[f'{col}_2_letters'] = data[col].str[:2]\n",
    "        \n",
    "    return data "
   ]
  },
  {
   "cell_type": "code",
   "execution_count": null,
   "id": "c57c24df-7e3e-48fc-85eb-a9399bc55d27",
   "metadata": {},
   "outputs": [],
   "source": [
    "def anonymizer_iban_post(data, list_col):\n",
    "    \"\"\"\n",
    "    Args:\n",
    "        data (pandas.DataFrame)\n",
    "        list_col (list of string)\n",
    "            list of col to anonymize\n",
    "    Returns:\n",
    "        data anonymized (pandas.DataFrame)\n",
    "    \"\"\"\n",
    "    for col in list_col:\n",
    "        print('col', col)\n",
    "        data[f'{col}_new'] = data[col]\n",
    "        data = data.drop(columns = [col])\n",
    "        data[col] = data[f'{col}_2_letters'] + data[f'{col}_new'].str[2:]\n",
    "        print('Dropping col')\n",
    "        data = data.drop(columns = [f'{col}_2_letters', f'{col}_new'])\n",
    "    return data "
   ]
  },
  {
   "cell_type": "code",
   "execution_count": null,
   "id": "f7eae600-5390-4d80-932c-76afe7271be0",
   "metadata": {},
   "outputs": [],
   "source": [
    "data_dict = {'test': ['a', 'b', 'c']}"
   ]
  },
  {
   "cell_type": "code",
   "execution_count": null,
   "id": "402ed4b7-05a4-43cb-95ba-99a28bd1f1c9",
   "metadata": {},
   "outputs": [],
   "source": [
    "df = pd.DataFrame(data_dict)"
   ]
  },
  {
   "cell_type": "code",
   "execution_count": null,
   "id": "d7712cb6-7601-4a96-b2f0-fef6f236896b",
   "metadata": {},
   "outputs": [],
   "source": [
    "df"
   ]
  },
  {
   "cell_type": "code",
   "execution_count": null,
   "id": "1de54bab-7df3-4216-bbd2-141e1f33c399",
   "metadata": {},
   "outputs": [],
   "source": [
    "list_company_name_account_anonym = ['test']"
   ]
  },
  {
   "cell_type": "code",
   "execution_count": null,
   "id": "4c52fb3a-d17c-44af-82f0-3a760bc6dc29",
   "metadata": {},
   "outputs": [],
   "source": [
    "anonymised_dict_account = [{'col': list_company_name_account_anonym, 'category': 'company'}]"
   ]
  },
  {
   "cell_type": "code",
   "execution_count": null,
   "id": "9cb0606d-d28e-49f9-8f34-345f9efbc486",
   "metadata": {},
   "outputs": [],
   "source": [
    "anonymised_dict_account"
   ]
  },
  {
   "cell_type": "code",
   "execution_count": null,
   "id": "65860a86-ad13-46fc-a95e-2e19174b0df1",
   "metadata": {},
   "outputs": [],
   "source": [
    "anonymised_dict_account[0]['col']"
   ]
  },
  {
   "cell_type": "code",
   "execution_count": null,
   "id": "e0de5bb2-617e-4d08-91cf-a33fdf2a4a66",
   "metadata": {},
   "outputs": [],
   "source": [
    "for anonymised_dict in anonymised_dict_account:\n",
    "    print(anonymised_dict)\n",
    "    for col in anonymised_dict['col']:\n",
    "        print('col:', col)"
   ]
  },
  {
   "cell_type": "code",
   "execution_count": null,
   "id": "29c63446-b75e-4fbb-a7cd-983a10bcacf6",
   "metadata": {},
   "outputs": [],
   "source": [
    "(df, anonymised_dict_account)"
   ]
  },
  {
   "cell_type": "code",
   "execution_count": null,
   "id": "aba5db54-3b11-4b98-805f-f4f88a997c0d",
   "metadata": {},
   "outputs": [],
   "source": [
    "mapping = {}\n",
    "for anonymised_dict in anonymised_dict_account:\n",
    "    print('anonymised_dict:', anonymised_dict)\n",
    "    category = anonymised_dict['category']\n",
    "    for col in anonymised_dict['col']:\n",
    "        print('col:', col)\n",
    "        faker_unique_list = []\n",
    "        unique_value = list((df[col]).unique())\n",
    "        faker = Faker()\n",
    "        faker.add_provider(CustomProvider())\n",
    "        for i in range(len(unique_value)): \n",
    "            print('category', category)\n",
    "            faker_unique_list.append(getattr(faker.unique, category)())\n",
    "        mapping_anonymised = dict(zip(unique_value, faker_unique_list))\n",
    "        mapping[col] = mapping_anonymised\n",
    "        df[col] = df[col].map(mapping_anonymised)\n"
   ]
  },
  {
   "cell_type": "code",
   "execution_count": null,
   "id": "b94d8eaa-3aff-49f1-b6ff-65be13556a72",
   "metadata": {},
   "outputs": [],
   "source": [
    "for i in range(len(unique_value)): \n",
    "    print('category')\n",
    "    faker_unique_list.append(getattr(faker.unique, 'company')())"
   ]
  },
  {
   "cell_type": "markdown",
   "id": "e3e32772-0e4f-43df-9c92-82b51b0c9024",
   "metadata": {},
   "source": [
    "## FakeGenerator Class"
   ]
  },
  {
   "cell_type": "code",
   "execution_count": 68,
   "id": "b4662659-1df2-4bc8-853a-e19c81783586",
   "metadata": {},
   "outputs": [],
   "source": [
    "class FakeGenerator():\n",
    "    def __init__(self, num_rows : int, schema_list : str, custom_provder : CustomProvider):\n",
    "        self.num_rows : int = num_rows\n",
    "        self.schema_list : list = schema_list\n",
    "\n",
    "    def generate_fake_data(self):\n",
    "        data = pd.DataFrame()\n",
    "        for schema in self.schema_list:\n",
    "            faker = Faker()\n",
    "            faker.add_provider(CustomProvider())\n",
    "            faker_list = []\n",
    "            for i in range(self.num_rows): \n",
    "                faker_list.append(getattr(faker, schema['category'])())\n",
    "            data[schema['column']] = faker_list\n",
    "        return data"
   ]
  },
  {
   "cell_type": "code",
   "execution_count": 98,
   "id": "8ae0e796-79cc-49e9-96b8-d5993e672054",
   "metadata": {},
   "outputs": [],
   "source": [
    "class FakeGeneratorRefacto():\n",
    "    def __init__(self, num_rows : int, schema_list : str, custom_provider : CustomProvider):\n",
    "        self.num_rows : int = num_rows\n",
    "        self.schema_list : list = schema_list\n",
    "        self.custom_provider : CustomProvider = custom_provider\n",
    "\n",
    "    def generate_fake_columns(self, schema):\n",
    "        faker = Faker()\n",
    "        faker.add_provider(self.custom_provider)\n",
    "        return list(map(lambda x: getattr(faker, schema['category'])() , range(self.num_rows)))\n",
    "        \n",
    "    def generate_fake_data(self):\n",
    "        data_columns = list(map(lambda schema: self.generate_fake_columns(schema), self.schema_list))\n",
    "        data_columns = list(zip(*data_columns))\n",
    "        fake_data = pd.DataFrame(data_columns, columns=[schema['column'] for schema in schema_list])\n",
    "        return fake_data"
   ]
  },
  {
   "cell_type": "code",
   "execution_count": null,
   "id": "349cb03f-aac7-43c4-9f0a-54810ece2166",
   "metadata": {},
   "outputs": [],
   "source": [
    "column_name = 'num_compte'\n",
    "category_name = 'num_compte'\n",
    "type = 'string'"
   ]
  },
  {
   "cell_type": "code",
   "execution_count": 35,
   "id": "f43e4469-09b0-43af-b7f9-0cea0b1b3d3d",
   "metadata": {},
   "outputs": [],
   "source": [
    "num_rows = 5000\n",
    "schema_list = [\n",
    "{'column': 'name', 'category': 'name', 'type': type, 'unique': False},\n",
    "{'column': 'address', 'category': 'address', 'type': type, 'unique': False},\n",
    "{'column': 'job', 'category': 'job', 'type': type, 'unique': False},\n",
    "{'column': 'company', 'category': 'company', 'type': type, 'unique': False},\n",
    "]"
   ]
  },
  {
   "cell_type": "code",
   "execution_count": 56,
   "id": "16e53afe-12fa-4110-9d5c-2a18e9e253b9",
   "metadata": {},
   "outputs": [],
   "source": [
    "def generate_fake_columns(schema):\n",
    "    faker = Faker()\n",
    "    faker.add_provider(CustomProvider())\n",
    "    return list(map(lambda x: getattr(faker, schema['category'])() , range(10)))"
   ]
  },
  {
   "cell_type": "code",
   "execution_count": 50,
   "id": "59e53a92-290d-443e-a79c-c02ec1a987bc",
   "metadata": {},
   "outputs": [
    {
     "data": {
      "text/plain": [
       "<map at 0x7efea593fa90>"
      ]
     },
     "execution_count": 50,
     "metadata": {},
     "output_type": "execute_result"
    }
   ],
   "source": [
    "data = pd.DataFrame()\n",
    "map(lambda x : generate_columns(data, x), schema_list)"
   ]
  },
  {
   "cell_type": "code",
   "execution_count": 57,
   "id": "4b286525-bb24-40f8-97e0-efd3e442fe4b",
   "metadata": {},
   "outputs": [],
   "source": [
    "data_columns = list(map(lambda schema: generate_fake_columns(schema), schema_list))\n",
    "data_columns = list(zip(*data_columns))"
   ]
  },
  {
   "cell_type": "code",
   "execution_count": 59,
   "id": "fdabadf9-2941-40fe-b745-57aca0d42492",
   "metadata": {},
   "outputs": [],
   "source": [
    "data = pd.DataFrame(data_columns, columns=[schema['column'] for schema in schema_list])"
   ]
  },
  {
   "cell_type": "code",
   "execution_count": 60,
   "id": "612e84ca-1765-4885-9f2a-41057145ee85",
   "metadata": {},
   "outputs": [
    {
     "data": {
      "text/html": [
       "<div>\n",
       "<style scoped>\n",
       "    .dataframe tbody tr th:only-of-type {\n",
       "        vertical-align: middle;\n",
       "    }\n",
       "\n",
       "    .dataframe tbody tr th {\n",
       "        vertical-align: top;\n",
       "    }\n",
       "\n",
       "    .dataframe thead th {\n",
       "        text-align: right;\n",
       "    }\n",
       "</style>\n",
       "<table border=\"1\" class=\"dataframe\">\n",
       "  <thead>\n",
       "    <tr style=\"text-align: right;\">\n",
       "      <th></th>\n",
       "      <th>name</th>\n",
       "      <th>address</th>\n",
       "      <th>job</th>\n",
       "      <th>company</th>\n",
       "    </tr>\n",
       "  </thead>\n",
       "  <tbody>\n",
       "    <tr>\n",
       "      <th>0</th>\n",
       "      <td>Jennifer Phelps</td>\n",
       "      <td>735 Watkins Road\\nPort Kristina, DE 87881</td>\n",
       "      <td>Geophysical data processor</td>\n",
       "      <td>Tate, Schaefer and Curtis</td>\n",
       "    </tr>\n",
       "    <tr>\n",
       "      <th>1</th>\n",
       "      <td>April Miller</td>\n",
       "      <td>293 Robert River\\nStaceyside, AR 09487</td>\n",
       "      <td>Travel agency manager</td>\n",
       "      <td>Fox, Foster and Brown</td>\n",
       "    </tr>\n",
       "    <tr>\n",
       "      <th>2</th>\n",
       "      <td>Donald Perry</td>\n",
       "      <td>927 Ralph Shoal\\nJohnsonborough, RI 65240</td>\n",
       "      <td>Agricultural consultant</td>\n",
       "      <td>Freeman-Reeves</td>\n",
       "    </tr>\n",
       "    <tr>\n",
       "      <th>3</th>\n",
       "      <td>Stephen Riley</td>\n",
       "      <td>4362 Villanueva Parkways\\nEast Roberttown, ND ...</td>\n",
       "      <td>Clinical research associate</td>\n",
       "      <td>Snyder-White</td>\n",
       "    </tr>\n",
       "    <tr>\n",
       "      <th>4</th>\n",
       "      <td>Diane Ayala</td>\n",
       "      <td>0238 Taylor Rapids Apt. 741\\nEast Briannafurt,...</td>\n",
       "      <td>Facilities manager</td>\n",
       "      <td>Hunter, Sharp and Meadows</td>\n",
       "    </tr>\n",
       "    <tr>\n",
       "      <th>5</th>\n",
       "      <td>Lisa Roberts</td>\n",
       "      <td>835 Booker Estate Suite 287\\nLake Elizabethbor...</td>\n",
       "      <td>Equities trader</td>\n",
       "      <td>Smith-Price</td>\n",
       "    </tr>\n",
       "    <tr>\n",
       "      <th>6</th>\n",
       "      <td>Tina Velasquez</td>\n",
       "      <td>18324 Goodwin Terrace\\nHernandezchester, CA 51779</td>\n",
       "      <td>Solicitor</td>\n",
       "      <td>Mercer-Powers</td>\n",
       "    </tr>\n",
       "    <tr>\n",
       "      <th>7</th>\n",
       "      <td>Sarah Peterson</td>\n",
       "      <td>70897 Wood Loop\\nSouth Jamesshire, PW 67522</td>\n",
       "      <td>Trading standards officer</td>\n",
       "      <td>Barajas, Chandler and Davis</td>\n",
       "    </tr>\n",
       "    <tr>\n",
       "      <th>8</th>\n",
       "      <td>Tina Gonzalez</td>\n",
       "      <td>44971 Kenneth Mount\\nCarlsonshire, PA 75377</td>\n",
       "      <td>Transport planner</td>\n",
       "      <td>Washington and Sons</td>\n",
       "    </tr>\n",
       "    <tr>\n",
       "      <th>9</th>\n",
       "      <td>Sarah Davis</td>\n",
       "      <td>34832 Wade Passage Suite 699\\nHillport, WV 35797</td>\n",
       "      <td>Hydrogeologist</td>\n",
       "      <td>Joseph and Sons</td>\n",
       "    </tr>\n",
       "  </tbody>\n",
       "</table>\n",
       "</div>"
      ],
      "text/plain": [
       "              name                                            address  \\\n",
       "0  Jennifer Phelps          735 Watkins Road\\nPort Kristina, DE 87881   \n",
       "1     April Miller             293 Robert River\\nStaceyside, AR 09487   \n",
       "2     Donald Perry          927 Ralph Shoal\\nJohnsonborough, RI 65240   \n",
       "3    Stephen Riley  4362 Villanueva Parkways\\nEast Roberttown, ND ...   \n",
       "4      Diane Ayala  0238 Taylor Rapids Apt. 741\\nEast Briannafurt,...   \n",
       "5     Lisa Roberts  835 Booker Estate Suite 287\\nLake Elizabethbor...   \n",
       "6   Tina Velasquez  18324 Goodwin Terrace\\nHernandezchester, CA 51779   \n",
       "7   Sarah Peterson        70897 Wood Loop\\nSouth Jamesshire, PW 67522   \n",
       "8    Tina Gonzalez        44971 Kenneth Mount\\nCarlsonshire, PA 75377   \n",
       "9      Sarah Davis   34832 Wade Passage Suite 699\\nHillport, WV 35797   \n",
       "\n",
       "                           job                      company  \n",
       "0   Geophysical data processor    Tate, Schaefer and Curtis  \n",
       "1        Travel agency manager        Fox, Foster and Brown  \n",
       "2      Agricultural consultant               Freeman-Reeves  \n",
       "3  Clinical research associate                 Snyder-White  \n",
       "4           Facilities manager    Hunter, Sharp and Meadows  \n",
       "5              Equities trader                  Smith-Price  \n",
       "6                    Solicitor                Mercer-Powers  \n",
       "7    Trading standards officer  Barajas, Chandler and Davis  \n",
       "8            Transport planner          Washington and Sons  \n",
       "9               Hydrogeologist              Joseph and Sons  "
      ]
     },
     "execution_count": 60,
     "metadata": {},
     "output_type": "execute_result"
    }
   ],
   "source": [
    "data"
   ]
  },
  {
   "cell_type": "code",
   "execution_count": null,
   "id": "262a75a1-1e12-4df7-93f6-197db4502579",
   "metadata": {},
   "outputs": [],
   "source": [
    "data = pd.DataFrame()\n",
    "for schema in schema_list:\n",
    "    data[schema['column']] = faker_list"
   ]
  },
  {
   "cell_type": "code",
   "execution_count": 39,
   "id": "39fa474f-e48b-4748-9f8c-1a2b1177cc73",
   "metadata": {},
   "outputs": [
    {
     "data": {
      "text/html": [
       "<div>\n",
       "<style scoped>\n",
       "    .dataframe tbody tr th:only-of-type {\n",
       "        vertical-align: middle;\n",
       "    }\n",
       "\n",
       "    .dataframe tbody tr th {\n",
       "        vertical-align: top;\n",
       "    }\n",
       "\n",
       "    .dataframe thead th {\n",
       "        text-align: right;\n",
       "    }\n",
       "</style>\n",
       "<table border=\"1\" class=\"dataframe\">\n",
       "  <thead>\n",
       "    <tr style=\"text-align: right;\">\n",
       "      <th></th>\n",
       "      <th>name</th>\n",
       "      <th>address</th>\n",
       "      <th>job</th>\n",
       "      <th>company</th>\n",
       "    </tr>\n",
       "  </thead>\n",
       "  <tbody>\n",
       "    <tr>\n",
       "      <th>0</th>\n",
       "      <td>Gwendolyn Hood</td>\n",
       "      <td>97104 Kayla Locks\\nNew Brenda, VA 33262</td>\n",
       "      <td>Local government officer</td>\n",
       "      <td>Shelton Group</td>\n",
       "    </tr>\n",
       "    <tr>\n",
       "      <th>1</th>\n",
       "      <td>Justin Lopez</td>\n",
       "      <td>289 Brian Tunnel\\nNorth Catherine, CT 86300</td>\n",
       "      <td>Acupuncturist</td>\n",
       "      <td>Wilkins and Sons</td>\n",
       "    </tr>\n",
       "    <tr>\n",
       "      <th>2</th>\n",
       "      <td>Sandra Pruitt</td>\n",
       "      <td>02930 Douglas Mountain\\nPort Barbarashire, VA ...</td>\n",
       "      <td>Television camera operator</td>\n",
       "      <td>Erickson-Valdez</td>\n",
       "    </tr>\n",
       "    <tr>\n",
       "      <th>3</th>\n",
       "      <td>Donald Davis</td>\n",
       "      <td>2429 Garcia Cliff Apt. 639\\nNorth Kathymouth, ...</td>\n",
       "      <td>Freight forwarder</td>\n",
       "      <td>Dickerson-Small</td>\n",
       "    </tr>\n",
       "    <tr>\n",
       "      <th>4</th>\n",
       "      <td>Terri Montes</td>\n",
       "      <td>94137 Miranda Islands\\nNew Steven, OH 25285</td>\n",
       "      <td>Glass blower/designer</td>\n",
       "      <td>Taylor-Barron</td>\n",
       "    </tr>\n",
       "    <tr>\n",
       "      <th>5</th>\n",
       "      <td>Dennis Henry</td>\n",
       "      <td>190 Danielle Plaza\\nPort Tinaburgh, CA 18640</td>\n",
       "      <td>Engineer, control and instrumentation</td>\n",
       "      <td>Rodgers-Brooks</td>\n",
       "    </tr>\n",
       "    <tr>\n",
       "      <th>6</th>\n",
       "      <td>Tina Huffman</td>\n",
       "      <td>480 Misty Vista Apt. 716\\nNorth Thomas, PW 15930</td>\n",
       "      <td>Television floor manager</td>\n",
       "      <td>Clark-Griffith</td>\n",
       "    </tr>\n",
       "    <tr>\n",
       "      <th>7</th>\n",
       "      <td>Marcus Jimenez</td>\n",
       "      <td>Unit 6511 Box 5259\\nDPO AA 97363</td>\n",
       "      <td>Public relations account executive</td>\n",
       "      <td>Williams and Sons</td>\n",
       "    </tr>\n",
       "    <tr>\n",
       "      <th>8</th>\n",
       "      <td>Dale Mcintosh</td>\n",
       "      <td>601 Rodney Junction\\nSmithberg, VA 76858</td>\n",
       "      <td>Cabin crew</td>\n",
       "      <td>Pace, Rodriguez and Lee</td>\n",
       "    </tr>\n",
       "    <tr>\n",
       "      <th>9</th>\n",
       "      <td>Jeffrey Stephens</td>\n",
       "      <td>87113 Jonathan Extension Apt. 644\\nBrianshire,...</td>\n",
       "      <td>Data processing manager</td>\n",
       "      <td>Jordan PLC</td>\n",
       "    </tr>\n",
       "  </tbody>\n",
       "</table>\n",
       "</div>"
      ],
      "text/plain": [
       "               name                                            address  \\\n",
       "0    Gwendolyn Hood            97104 Kayla Locks\\nNew Brenda, VA 33262   \n",
       "1      Justin Lopez        289 Brian Tunnel\\nNorth Catherine, CT 86300   \n",
       "2     Sandra Pruitt  02930 Douglas Mountain\\nPort Barbarashire, VA ...   \n",
       "3      Donald Davis  2429 Garcia Cliff Apt. 639\\nNorth Kathymouth, ...   \n",
       "4      Terri Montes        94137 Miranda Islands\\nNew Steven, OH 25285   \n",
       "5      Dennis Henry       190 Danielle Plaza\\nPort Tinaburgh, CA 18640   \n",
       "6      Tina Huffman   480 Misty Vista Apt. 716\\nNorth Thomas, PW 15930   \n",
       "7    Marcus Jimenez                   Unit 6511 Box 5259\\nDPO AA 97363   \n",
       "8     Dale Mcintosh           601 Rodney Junction\\nSmithberg, VA 76858   \n",
       "9  Jeffrey Stephens  87113 Jonathan Extension Apt. 644\\nBrianshire,...   \n",
       "\n",
       "                                     job                  company  \n",
       "0               Local government officer            Shelton Group  \n",
       "1                          Acupuncturist         Wilkins and Sons  \n",
       "2             Television camera operator          Erickson-Valdez  \n",
       "3                      Freight forwarder          Dickerson-Small  \n",
       "4                  Glass blower/designer            Taylor-Barron  \n",
       "5  Engineer, control and instrumentation           Rodgers-Brooks  \n",
       "6               Television floor manager           Clark-Griffith  \n",
       "7     Public relations account executive        Williams and Sons  \n",
       "8                             Cabin crew  Pace, Rodriguez and Lee  \n",
       "9                Data processing manager               Jordan PLC  "
      ]
     },
     "execution_count": 39,
     "metadata": {},
     "output_type": "execute_result"
    }
   ],
   "source": [
    "data"
   ]
  },
  {
   "cell_type": "code",
   "execution_count": 89,
   "id": "2df4734e-a7d5-454c-8d5c-984649bc7c55",
   "metadata": {},
   "outputs": [],
   "source": [
    "num_rows = 5000"
   ]
  },
  {
   "cell_type": "code",
   "execution_count": 97,
   "id": "ffa8c4d8-83db-4632-a0f8-7c6421bde32d",
   "metadata": {},
   "outputs": [
    {
     "name": "stdout",
     "output_type": "stream",
     "text": [
      "time generation : 1.2091639041900635\n"
     ]
    }
   ],
   "source": [
    "start = time.time()\n",
    "original_data = FakeGenerator(num_rows, schema_list, CustomProvider()).generate_fake_data()\n",
    "stop = time.time()\n",
    "print(f'time generation : {stop - start}')"
   ]
  },
  {
   "cell_type": "code",
   "execution_count": 96,
   "id": "5d57cbb0-2c01-41c6-8694-f601ef5f19ef",
   "metadata": {},
   "outputs": [
    {
     "name": "stdout",
     "output_type": "stream",
     "text": [
      "time generation : 1.202030897140503\n"
     ]
    }
   ],
   "source": [
    "start = time.time()\n",
    "test_data = FakeGeneratorRefacto(num_rows, schema_list, CustomProvider()).generate_fake_data()\n",
    "stop = time.time()\n",
    "print(f'time generation : {stop - start}')"
   ]
  },
  {
   "cell_type": "code",
   "execution_count": 85,
   "id": "b41f3345-1bcc-4478-b304-518c5bf02c19",
   "metadata": {},
   "outputs": [
    {
     "data": {
      "text/plain": [
       "(10, 4)"
      ]
     },
     "execution_count": 85,
     "metadata": {},
     "output_type": "execute_result"
    }
   ],
   "source": [
    "test_data.shape"
   ]
  },
  {
   "cell_type": "markdown",
   "id": "26d1cc02-b486-4d88-942a-30063687b3d5",
   "metadata": {},
   "source": [
    "### List of Category Faker \n",
    "- Faire une liste des categories existantes dans Faker "
   ]
  },
  {
   "cell_type": "markdown",
   "id": "8a355f24-84fb-4d22-92a3-512bb247c6c1",
   "metadata": {},
   "source": [
    "**address**\n",
    "- address\n",
    "- building_number\n",
    "- city\n",
    "- city_suffix\n",
    "- country\n",
    "- country_code\n",
    "- current_country\n",
    "- current_country_code()\n",
    "- postcode\n",
    "- street_address\n",
    "- street_name\n",
    "- street_suffix\n",
    "\n",
    "**bank**\n",
    "- aba\n",
    "- bank_country\n",
    "- bban\n",
    "- iban\n",
    "- swift\n",
    "- swift8\n",
    "- swift11\n",
    "\n",
    "**company**\n",
    "- bs\n",
    "- catch_phrase\n",
    "- company\n",
    "- company_suffix\n",
    "\n",
    "**currency:**\n",
    "- cryptocurrency\n",
    "- cryptocurrency_code\n",
    "- cryptocurrency_name\n",
    "- currency_code\n",
    "- currency_name\n",
    "- currency_symbol\n",
    "- pricetag\n",
    "\n",
    "**phone_number:**\n",
    "- country_calling_code\n",
    "- msisdn\n",
    "- phone_number\n",
    "\n",
    "**person:**\n",
    "- first_name\n",
    "- first_name_female\n",
    "- first_name_male\n",
    "- language_name\n",
    "- last_name\n",
    "- name\n",
    "- suffix\n",
    "- job\n",
    "\n",
    "**geo:**\n",
    "- coordinate\n",
    "- latitude\n",
    "- latlng\n",
    "- longitude\n",
    "\n",
    "**credit_card_number:**\n",
    "- credit_card_expire\n",
    "- credit_card_full\n",
    "- credit_card_number\n",
    "- credit_card_provider\n",
    "- credit_card_security_code"
   ]
  },
  {
   "cell_type": "markdown",
   "id": "56afcf85-e8a7-4dfd-b170-285193570f9c",
   "metadata": {},
   "source": [
    "### Unique Value "
   ]
  },
  {
   "cell_type": "code",
   "execution_count": 62,
   "id": "d8015d3e-348d-4743-a2c9-43d4a640612b",
   "metadata": {},
   "outputs": [
    {
     "data": {
      "text/plain": [
       "'Miranda King'"
      ]
     },
     "execution_count": 62,
     "metadata": {},
     "output_type": "execute_result"
    }
   ],
   "source": [
    "getattr(faker.unique, 'name')()"
   ]
  },
  {
   "cell_type": "code",
   "execution_count": null,
   "id": "9c4cbbac-f860-4b10-bb8e-c59dae20e709",
   "metadata": {},
   "outputs": [],
   "source": []
  }
 ],
 "metadata": {
  "kernelspec": {
   "display_name": "fake_generator",
   "language": "python",
   "name": "fake_generator"
  },
  "language_info": {
   "codemirror_mode": {
    "name": "ipython",
    "version": 3
   },
   "file_extension": ".py",
   "mimetype": "text/x-python",
   "name": "python",
   "nbconvert_exporter": "python",
   "pygments_lexer": "ipython3",
   "version": "3.9.18"
  }
 },
 "nbformat": 4,
 "nbformat_minor": 5
}
