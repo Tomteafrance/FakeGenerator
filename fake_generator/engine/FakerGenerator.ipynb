{
 "cells": [
  {
   "cell_type": "code",
   "execution_count": 1,
   "id": "eae4bf86-59d4-46ae-b5e4-b0c85f23e223",
   "metadata": {},
   "outputs": [],
   "source": [
    "import random\n",
    "from random import randint\n",
    "import numpy as np \n",
    "import pandas as pd \n",
    "from faker import Faker\n",
    "from faker.providers import BaseProvider"
   ]
  },
  {
   "cell_type": "code",
   "execution_count": 2,
   "id": "73f1798e-8b7e-44b3-9727-e7729b6a902c",
   "metadata": {},
   "outputs": [],
   "source": [
    "def random_with_N_digits(n):\n",
    "    range_start = 10**(n-1)\n",
    "    range_end = (10**n)-1\n",
    "    return randint(range_start, range_end)"
   ]
  },
  {
   "cell_type": "code",
   "execution_count": 3,
   "id": "377dad4c-be46-40be-a27f-d24d9df3198d",
   "metadata": {},
   "outputs": [],
   "source": [
    "class CustomProvider:\n",
    "    @classmethod\n",
    "    def bdr_id(cls):\n",
    "        faker = Faker()\n",
    "        return faker.pystr_format(\"#########{{random_int}}\") \n",
    "\n",
    "    @classmethod\n",
    "    def iban_number(cls):\n",
    "        faker = Faker()\n",
    "        fake_iban = faker.country_code() + str(random_with_N_digits(2)) + faker.pystr(max_chars = 4).upper() + str(random_with_N_digits(6)) + str(random_with_N_digits(8))\n",
    "        return fake_iban.upper() \n",
    "    \n",
    "    @classmethod\n",
    "    def id_class(cls):\n",
    "        faker = Faker()\n",
    "        return faker.pystr_format(\"#####{{random_int}}\") \n",
    "    \n",
    "    @classmethod\n",
    "    def account_currency(cls):\n",
    "        faker = Faker()\n",
    "        return faker.pystr(max_chars = 3).upper()\n",
    "\n",
    "    @classmethod\n",
    "    def ten_letters(cls):\n",
    "        faker = Faker()\n",
    "        return faker.pystr(max_chars = 10).upper()\n",
    "    \n",
    "    @classmethod\n",
    "    def two_letters(cls):\n",
    "        faker = Faker()\n",
    "        return faker.pystr(max_chars = 2).upper()\n",
    "    \n",
    "    @classmethod\n",
    "    def one_letter(cls):\n",
    "        faker = Faker()\n",
    "        return faker.pystr(max_chars = 1).upper()\n",
    "    \n",
    "    @classmethod\n",
    "    def num_compte(cls):\n",
    "        faker = Faker()\n",
    "        return faker.country_code() + str(random_with_N_digits(25))"
   ]
  },
  {
   "cell_type": "code",
   "execution_count": 8,
   "id": "ec7f84c1-c435-4085-9753-a5b795b1c154",
   "metadata": {},
   "outputs": [],
   "source": [
    "faker = Faker()\n",
    "faker.add_provider(CustomProvider())"
   ]
  },
  {
   "cell_type": "code",
   "execution_count": 14,
   "id": "ce7c1491-3c52-4c78-b325-06abc32a4742",
   "metadata": {},
   "outputs": [
    {
     "data": {
      "text/plain": [
       "'TO'"
      ]
     },
     "execution_count": 14,
     "metadata": {},
     "output_type": "execute_result"
    }
   ],
   "source": [
    "faker.country_code()"
   ]
  },
  {
   "cell_type": "code",
   "execution_count": 17,
   "id": "f221cca6-dc4d-440d-b1b3-feb420f51fe8",
   "metadata": {},
   "outputs": [
    {
     "ename": "AttributeError",
     "evalue": "'Generator' object has no attribute 'TZ'",
     "output_type": "error",
     "traceback": [
      "\u001b[0;31m---------------------------------------------------------------------------\u001b[0m",
      "\u001b[0;31mAttributeError\u001b[0m                            Traceback (most recent call last)",
      "Cell \u001b[0;32mIn[17], line 1\u001b[0m\n\u001b[0;32m----> 1\u001b[0m \u001b[38;5;28;43mgetattr\u001b[39;49m\u001b[43m(\u001b[49m\u001b[43mfaker\u001b[49m\u001b[38;5;241;43m.\u001b[39;49m\u001b[43munique\u001b[49m\u001b[43m,\u001b[49m\u001b[43m \u001b[49m\u001b[43mfaker\u001b[49m\u001b[38;5;241;43m.\u001b[39;49m\u001b[43mcountry_code\u001b[49m\u001b[43m(\u001b[49m\u001b[43m)\u001b[49m\u001b[43m)\u001b[49m\n",
      "File \u001b[0;32m~/anaconda3/envs/FakeGenerator/lib/python3.9/site-packages/faker/proxy.py:293\u001b[0m, in \u001b[0;36mUniqueProxy.__getattr__\u001b[0;34m(self, name)\u001b[0m\n\u001b[1;32m    292\u001b[0m \u001b[38;5;28;01mdef\u001b[39;00m \u001b[38;5;21m__getattr__\u001b[39m(\u001b[38;5;28mself\u001b[39m, name: \u001b[38;5;28mstr\u001b[39m) \u001b[38;5;241m-\u001b[39m\u001b[38;5;241m>\u001b[39m Any:\n\u001b[0;32m--> 293\u001b[0m     obj \u001b[38;5;241m=\u001b[39m \u001b[38;5;28;43mgetattr\u001b[39;49m\u001b[43m(\u001b[49m\u001b[38;5;28;43mself\u001b[39;49m\u001b[38;5;241;43m.\u001b[39;49m\u001b[43m_proxy\u001b[49m\u001b[43m,\u001b[49m\u001b[43m \u001b[49m\u001b[43mname\u001b[49m\u001b[43m)\u001b[49m\n\u001b[1;32m    294\u001b[0m     \u001b[38;5;28;01mif\u001b[39;00m \u001b[38;5;28mcallable\u001b[39m(obj):\n\u001b[1;32m    295\u001b[0m         \u001b[38;5;28;01mreturn\u001b[39;00m \u001b[38;5;28mself\u001b[39m\u001b[38;5;241m.\u001b[39m_wrap(name, obj)\n",
      "File \u001b[0;32m~/anaconda3/envs/FakeGenerator/lib/python3.9/site-packages/faker/proxy.py:114\u001b[0m, in \u001b[0;36mFaker.__getattr__\u001b[0;34m(self, attr)\u001b[0m\n\u001b[1;32m    107\u001b[0m \u001b[38;5;250m\u001b[39m\u001b[38;5;124;03m\"\"\"\u001b[39;00m\n\u001b[1;32m    108\u001b[0m \u001b[38;5;124;03mHandles cache access and proxying behavior\u001b[39;00m\n\u001b[1;32m    109\u001b[0m \n\u001b[1;32m    110\u001b[0m \u001b[38;5;124;03m:param attr: attribute name\u001b[39;00m\n\u001b[1;32m    111\u001b[0m \u001b[38;5;124;03m:return: the appropriate attribute\u001b[39;00m\n\u001b[1;32m    112\u001b[0m \u001b[38;5;124;03m\"\"\"\u001b[39;00m\n\u001b[1;32m    113\u001b[0m \u001b[38;5;28;01mif\u001b[39;00m \u001b[38;5;28mlen\u001b[39m(\u001b[38;5;28mself\u001b[39m\u001b[38;5;241m.\u001b[39m_factories) \u001b[38;5;241m==\u001b[39m \u001b[38;5;241m1\u001b[39m:\n\u001b[0;32m--> 114\u001b[0m     \u001b[38;5;28;01mreturn\u001b[39;00m \u001b[38;5;28;43mgetattr\u001b[39;49m\u001b[43m(\u001b[49m\u001b[38;5;28;43mself\u001b[39;49m\u001b[38;5;241;43m.\u001b[39;49m\u001b[43m_factories\u001b[49m\u001b[43m[\u001b[49m\u001b[38;5;241;43m0\u001b[39;49m\u001b[43m]\u001b[49m\u001b[43m,\u001b[49m\u001b[43m \u001b[49m\u001b[43mattr\u001b[49m\u001b[43m)\u001b[49m\n\u001b[1;32m    115\u001b[0m \u001b[38;5;28;01melif\u001b[39;00m attr \u001b[38;5;129;01min\u001b[39;00m \u001b[38;5;28mself\u001b[39m\u001b[38;5;241m.\u001b[39mgenerator_attrs:\n\u001b[1;32m    116\u001b[0m     msg \u001b[38;5;241m=\u001b[39m \u001b[38;5;124m\"\u001b[39m\u001b[38;5;124mProxying calls to `\u001b[39m\u001b[38;5;132;01m%s\u001b[39;00m\u001b[38;5;124m` is not implemented in multiple locale mode.\u001b[39m\u001b[38;5;124m\"\u001b[39m \u001b[38;5;241m%\u001b[39m attr\n",
      "\u001b[0;31mAttributeError\u001b[0m: 'Generator' object has no attribute 'TZ'"
     ]
    }
   ],
   "source": [
    "getattr(faker.unique, faker.country_code())"
   ]
  },
  {
   "cell_type": "code",
   "execution_count": 24,
   "id": "b0cf3fb8-ac36-499d-a989-8e44bce4314d",
   "metadata": {},
   "outputs": [],
   "source": [
    "test = []\n",
    "for i in range(10000):\n",
    "    test.append(getattr(faker.unique, 'iban_number')())"
   ]
  },
  {
   "cell_type": "code",
   "execution_count": 28,
   "id": "ab839d35-0c21-4dbb-b401-507d0a27dbe6",
   "metadata": {},
   "outputs": [
    {
     "data": {
      "text/plain": [
       "10000"
      ]
     },
     "execution_count": 28,
     "metadata": {},
     "output_type": "execute_result"
    }
   ],
   "source": [
    "len(list(set(test)))"
   ]
  },
  {
   "cell_type": "code",
   "execution_count": 4,
   "id": "7ea857ef-ffb5-40a5-b88d-47ee2e082512",
   "metadata": {},
   "outputs": [],
   "source": [
    "def anonymizer(data, list_anonymised_dict):\n",
    "    \"\"\"\n",
    "    Args:\n",
    "        data (pandas.DataFrame)\n",
    "            dataframe to anonymise\n",
    "        list_anonymised_dict (list of dictionary)\n",
    "            list of dictionary containing key as columns to anonymise & value as Faker category\n",
    "    Returns:\n",
    "        data (pandas.DataFrame)\n",
    "            dataframe anonymised\n",
    "        mapping (dictionary)\n",
    "            mapping containing key as original value & value as anonymised value\n",
    "    \"\"\"\n",
    "    mapping = {}\n",
    "    for anonymised_dict in list_anonymised_dict:\n",
    "        category = anonymised_dict['category']\n",
    "        for col in anonymised_dict['col']:\n",
    "            faker_unique_list = []\n",
    "            unique_value = list((data[col]).unique())\n",
    "            faker = Faker()\n",
    "            faker.add_provider(CustomProvider())\n",
    "            for i in range(len(unique_value)): \n",
    "                faker_unique_list.append(getattr(faker.unique, category)())\n",
    "            mapping_anonymised = dict(zip(unique_value, faker_unique_list))\n",
    "            mapping[col] = mapping_anonymised\n",
    "            data[col] = data[col].map(mapping_anonymised)\n",
    "    return data, mapping"
   ]
  },
  {
   "cell_type": "code",
   "execution_count": 5,
   "id": "2e3997da-55ea-492f-8f91-3a5f50274dfb",
   "metadata": {},
   "outputs": [],
   "source": [
    "def anonymizer_multi(data_dict, anonymised_list):\n",
    "    \"\"\"\n",
    "    Args:\n",
    "        data_dict (dictionary of pandas.DataFrame)\n",
    "            dictionary of dataframe to anonymise\n",
    "        anonymised_list (list of dictionary)\n",
    "            list of dictionary containing key as columns to anonymise & value as Faker category\n",
    "    Returns:\n",
    "        data (pandas.DataFrame)\n",
    "            dataframe anonymised\n",
    "    \"\"\"\n",
    "    mapping_multi = {}\n",
    "    for table_name in data_dict:\n",
    "        mapping_multi[table_name] = {}\n",
    "    for anonymised_dict in anonymised_list:\n",
    "        faker = Faker()\n",
    "        faker.add_provider(CustomProvider())        \n",
    "        for col in anonymised_dict['col']:\n",
    "            print('col', col)\n",
    "            unique_value = []\n",
    "            faker_unique_list = []\n",
    "            for table_name in anonymised_dict['table_name_list']:\n",
    "                print('table', table_name)\n",
    "                unique_value += list((data_dict[table_name][col]).unique())\n",
    "\n",
    "                for i in range(len(unique_value)): \n",
    "                    faker_unique_list.append(getattr(faker.unique, anonymised_dict['category'])())\n",
    "            \n",
    "            mapping_anonymised = dict(zip(unique_value, faker_unique_list))\n",
    "            for table_name in anonymised_dict['table_name_list']:\n",
    "                mapping_multi[table_name][col] = mapping_anonymised\n",
    "                data_dict[table_name][col] = data_dict[table_name][col].map(mapping_anonymised)\n",
    "    return data_dict, mapping_multi "
   ]
  },
  {
   "cell_type": "code",
   "execution_count": 6,
   "id": "384228b5-e804-4058-8d91-73c9c2049136",
   "metadata": {},
   "outputs": [],
   "source": [
    "def anonymizer_iban_prepro(data, list_col):\n",
    "    \"\"\"\n",
    "    Args:\n",
    "        data (pandas.DataFrame)\n",
    "        list_col (list of string)\n",
    "            list of col to anonymize\n",
    "    Returns:\n",
    "        data anonymized (pandas.DataFrame)\n",
    "    \"\"\"\n",
    "    for col in list_col:\n",
    "        print('col', col)\n",
    "        data[f'{col}_2_letters'] = data[col].str[:2]\n",
    "        \n",
    "    return data "
   ]
  },
  {
   "cell_type": "code",
   "execution_count": 7,
   "id": "c57c24df-7e3e-48fc-85eb-a9399bc55d27",
   "metadata": {},
   "outputs": [],
   "source": [
    "def anonymizer_iban_post(data, list_col):\n",
    "    \"\"\"\n",
    "    Args:\n",
    "        data (pandas.DataFrame)\n",
    "        list_col (list of string)\n",
    "            list of col to anonymize\n",
    "    Returns:\n",
    "        data anonymized (pandas.DataFrame)\n",
    "    \"\"\"\n",
    "    for col in list_col:\n",
    "        print('col', col)\n",
    "        data[f'{col}_new'] = data[col]\n",
    "        data = data.drop(columns = [col])\n",
    "        data[col] = data[f'{col}_2_letters'] + data[f'{col}_new'].str[2:]\n",
    "        print('Dropping col')\n",
    "        data = data.drop(columns = [f'{col}_2_letters', f'{col}_new'])\n",
    "    return data "
   ]
  },
  {
   "cell_type": "code",
   "execution_count": null,
   "id": "4c52fb3a-d17c-44af-82f0-3a760bc6dc29",
   "metadata": {},
   "outputs": [],
   "source": []
  },
  {
   "cell_type": "code",
   "execution_count": null,
   "id": "aba5db54-3b11-4b98-805f-f4f88a997c0d",
   "metadata": {},
   "outputs": [],
   "source": []
  },
  {
   "cell_type": "code",
   "execution_count": null,
   "id": "b94d8eaa-3aff-49f1-b6ff-65be13556a72",
   "metadata": {},
   "outputs": [],
   "source": []
  },
  {
   "cell_type": "code",
   "execution_count": null,
   "id": "e88f179e-29fa-4180-8eda-19808dfc304a",
   "metadata": {},
   "outputs": [],
   "source": []
  }
 ],
 "metadata": {
  "kernelspec": {
   "display_name": "fake_generator",
   "language": "python",
   "name": "fake_generator"
  },
  "language_info": {
   "codemirror_mode": {
    "name": "ipython",
    "version": 3
   },
   "file_extension": ".py",
   "mimetype": "text/x-python",
   "name": "python",
   "nbconvert_exporter": "python",
   "pygments_lexer": "ipython3",
   "version": "3.9.18"
  }
 },
 "nbformat": 4,
 "nbformat_minor": 5
}
