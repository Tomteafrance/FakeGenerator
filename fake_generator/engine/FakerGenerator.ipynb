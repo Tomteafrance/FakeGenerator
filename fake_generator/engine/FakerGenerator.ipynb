{
 "cells": [
  {
   "cell_type": "code",
   "execution_count": 2,
   "id": "eae4bf86-59d4-46ae-b5e4-b0c85f23e223",
   "metadata": {},
   "outputs": [],
   "source": [
    "import random\n",
    "from random import randint\n",
    "import numpy as np \n",
    "import pandas as pd \n",
    "from faker import Faker\n",
    "from faker.providers import BaseProvider"
   ]
  },
  {
   "cell_type": "code",
   "execution_count": 3,
   "id": "73f1798e-8b7e-44b3-9727-e7729b6a902c",
   "metadata": {},
   "outputs": [],
   "source": [
    "def random_with_N_digits(n):\n",
    "    range_start = 10**(n-1)\n",
    "    range_end = (10**n)-1\n",
    "    return randint(range_start, range_end)"
   ]
  },
  {
   "cell_type": "code",
   "execution_count": 4,
   "id": "377dad4c-be46-40be-a27f-d24d9df3198d",
   "metadata": {},
   "outputs": [],
   "source": [
    "class CustomProvider:\n",
    "    @classmethod\n",
    "    def bdr_id(cls):\n",
    "        faker = Faker()\n",
    "        return faker.pystr_format(\"#########{{random_int}}\") \n",
    "\n",
    "    @classmethod\n",
    "    def iban_number(cls):\n",
    "        faker = Faker()\n",
    "        fake_iban = faker.country_code() + str(random_with_N_digits(2)) + faker.pystr(max_chars = 4).upper() + str(random_with_N_digits(6)) + str(random_with_N_digits(8))\n",
    "        return fake_iban.upper() \n",
    "    \n",
    "    @classmethod\n",
    "    def id_class(cls):\n",
    "        faker = Faker()\n",
    "        return faker.pystr_format(\"#####{{random_int}}\") \n",
    "    \n",
    "    @classmethod\n",
    "    def account_currency(cls):\n",
    "        faker = Faker()\n",
    "        return faker.pystr(max_chars = 3).upper()\n",
    "\n",
    "    @classmethod\n",
    "    def ten_letters(cls):\n",
    "        faker = Faker()\n",
    "        return faker.pystr(max_chars = 10).upper()\n",
    "    \n",
    "    @classmethod\n",
    "    def two_letters(cls):\n",
    "        faker = Faker()\n",
    "        return faker.pystr(max_chars = 2).upper()\n",
    "    \n",
    "    @classmethod\n",
    "    def one_letter(cls):\n",
    "        faker = Faker()\n",
    "        return faker.pystr(max_chars = 1).upper()\n",
    "    \n",
    "    @classmethod\n",
    "    def num_compte(cls):\n",
    "        faker = Faker()\n",
    "        return faker.country_code() + str(random_with_N_digits(25))"
   ]
  },
  {
   "cell_type": "code",
   "execution_count": 5,
   "id": "ec7f84c1-c435-4085-9753-a5b795b1c154",
   "metadata": {},
   "outputs": [],
   "source": [
    "faker = Faker()\n",
    "faker.add_provider(CustomProvider())"
   ]
  },
  {
   "cell_type": "code",
   "execution_count": 6,
   "id": "ce7c1491-3c52-4c78-b325-06abc32a4742",
   "metadata": {},
   "outputs": [
    {
     "data": {
      "text/plain": [
       "'JP'"
      ]
     },
     "execution_count": 6,
     "metadata": {},
     "output_type": "execute_result"
    }
   ],
   "source": [
    "faker.country_code()"
   ]
  },
  {
   "cell_type": "code",
   "execution_count": 10,
   "id": "f221cca6-dc4d-440d-b1b3-feb420f51fe8",
   "metadata": {},
   "outputs": [],
   "source": [
    "#getattr(faker.unique, faker.country_code())"
   ]
  },
  {
   "cell_type": "code",
   "execution_count": 8,
   "id": "b0cf3fb8-ac36-499d-a989-8e44bce4314d",
   "metadata": {},
   "outputs": [],
   "source": [
    "test = []\n",
    "for i in range(10000):\n",
    "    test.append(getattr(faker.unique, 'iban_number')())"
   ]
  },
  {
   "cell_type": "code",
   "execution_count": 9,
   "id": "ab839d35-0c21-4dbb-b401-507d0a27dbe6",
   "metadata": {},
   "outputs": [
    {
     "data": {
      "text/plain": [
       "10000"
      ]
     },
     "execution_count": 9,
     "metadata": {},
     "output_type": "execute_result"
    }
   ],
   "source": [
    "len(list(set(test)))"
   ]
  },
  {
   "cell_type": "code",
   "execution_count": 4,
   "id": "7ea857ef-ffb5-40a5-b88d-47ee2e082512",
   "metadata": {},
   "outputs": [],
   "source": [
    "def anonymizer(data, list_anonymised_dict):\n",
    "    \"\"\"\n",
    "    Args:\n",
    "        data (pandas.DataFrame)\n",
    "            dataframe to anonymise\n",
    "        list_anonymised_dict (list of dictionary)\n",
    "            list of dictionary containing key as columns to anonymise & value as Faker category\n",
    "    Returns:\n",
    "        data (pandas.DataFrame)\n",
    "            dataframe anonymised\n",
    "        mapping (dictionary)\n",
    "            mapping containing key as original value & value as anonymised value\n",
    "    \"\"\"\n",
    "    mapping = {}\n",
    "    for anonymised_dict in list_anonymised_dict:\n",
    "        category = anonymised_dict['category']\n",
    "        for col in anonymised_dict['col']:\n",
    "            faker_unique_list = []\n",
    "            unique_value = list((data[col]).unique())\n",
    "            faker = Faker()\n",
    "            faker.add_provider(CustomProvider())\n",
    "            for i in range(len(unique_value)): \n",
    "                faker_unique_list.append(getattr(faker.unique, category)())\n",
    "            mapping_anonymised = dict(zip(unique_value, faker_unique_list))\n",
    "            mapping[col] = mapping_anonymised\n",
    "            data[col] = data[col].map(mapping_anonymised)\n",
    "    return data, mapping"
   ]
  },
  {
   "cell_type": "code",
   "execution_count": 5,
   "id": "2e3997da-55ea-492f-8f91-3a5f50274dfb",
   "metadata": {},
   "outputs": [],
   "source": [
    "def anonymizer_multi(data_dict, anonymised_list):\n",
    "    \"\"\"\n",
    "    Args:\n",
    "        data_dict (dictionary of pandas.DataFrame)\n",
    "            dictionary of dataframe to anonymise\n",
    "        anonymised_list (list of dictionary)\n",
    "            list of dictionary containing key as columns to anonymise & value as Faker category\n",
    "    Returns:\n",
    "        data (pandas.DataFrame)\n",
    "            dataframe anonymised\n",
    "    \"\"\"\n",
    "    mapping_multi = {}\n",
    "    for table_name in data_dict:\n",
    "        mapping_multi[table_name] = {}\n",
    "    for anonymised_dict in anonymised_list:\n",
    "        faker = Faker()\n",
    "        faker.add_provider(CustomProvider())        \n",
    "        for col in anonymised_dict['col']:\n",
    "            print('col', col)\n",
    "            unique_value = []\n",
    "            faker_unique_list = []\n",
    "            for table_name in anonymised_dict['table_name_list']:\n",
    "                print('table', table_name)\n",
    "                unique_value += list((data_dict[table_name][col]).unique())\n",
    "\n",
    "                for i in range(len(unique_value)): \n",
    "                    faker_unique_list.append(getattr(faker.unique, anonymised_dict['category'])())\n",
    "            \n",
    "            mapping_anonymised = dict(zip(unique_value, faker_unique_list))\n",
    "            for table_name in anonymised_dict['table_name_list']:\n",
    "                mapping_multi[table_name][col] = mapping_anonymised\n",
    "                data_dict[table_name][col] = data_dict[table_name][col].map(mapping_anonymised)\n",
    "    return data_dict, mapping_multi "
   ]
  },
  {
   "cell_type": "code",
   "execution_count": 6,
   "id": "384228b5-e804-4058-8d91-73c9c2049136",
   "metadata": {},
   "outputs": [],
   "source": [
    "def anonymizer_iban_prepro(data, list_col):\n",
    "    \"\"\"\n",
    "    Args:\n",
    "        data (pandas.DataFrame)\n",
    "        list_col (list of string)\n",
    "            list of col to anonymize\n",
    "    Returns:\n",
    "        data anonymized (pandas.DataFrame)\n",
    "    \"\"\"\n",
    "    for col in list_col:\n",
    "        print('col', col)\n",
    "        data[f'{col}_2_letters'] = data[col].str[:2]\n",
    "        \n",
    "    return data "
   ]
  },
  {
   "cell_type": "code",
   "execution_count": 7,
   "id": "c57c24df-7e3e-48fc-85eb-a9399bc55d27",
   "metadata": {},
   "outputs": [],
   "source": [
    "def anonymizer_iban_post(data, list_col):\n",
    "    \"\"\"\n",
    "    Args:\n",
    "        data (pandas.DataFrame)\n",
    "        list_col (list of string)\n",
    "            list of col to anonymize\n",
    "    Returns:\n",
    "        data anonymized (pandas.DataFrame)\n",
    "    \"\"\"\n",
    "    for col in list_col:\n",
    "        print('col', col)\n",
    "        data[f'{col}_new'] = data[col]\n",
    "        data = data.drop(columns = [col])\n",
    "        data[col] = data[f'{col}_2_letters'] + data[f'{col}_new'].str[2:]\n",
    "        print('Dropping col')\n",
    "        data = data.drop(columns = [f'{col}_2_letters', f'{col}_new'])\n",
    "    return data "
   ]
  },
  {
   "cell_type": "code",
   "execution_count": 23,
   "id": "f7eae600-5390-4d80-932c-76afe7271be0",
   "metadata": {},
   "outputs": [],
   "source": [
    "data_dict = {'test': ['a', 'b', 'c']}"
   ]
  },
  {
   "cell_type": "code",
   "execution_count": 24,
   "id": "402ed4b7-05a4-43cb-95ba-99a28bd1f1c9",
   "metadata": {},
   "outputs": [],
   "source": [
    "df = pd.DataFrame(data_dict)"
   ]
  },
  {
   "cell_type": "code",
   "execution_count": 25,
   "id": "d7712cb6-7601-4a96-b2f0-fef6f236896b",
   "metadata": {},
   "outputs": [
    {
     "data": {
      "text/html": [
       "<div>\n",
       "<style scoped>\n",
       "    .dataframe tbody tr th:only-of-type {\n",
       "        vertical-align: middle;\n",
       "    }\n",
       "\n",
       "    .dataframe tbody tr th {\n",
       "        vertical-align: top;\n",
       "    }\n",
       "\n",
       "    .dataframe thead th {\n",
       "        text-align: right;\n",
       "    }\n",
       "</style>\n",
       "<table border=\"1\" class=\"dataframe\">\n",
       "  <thead>\n",
       "    <tr style=\"text-align: right;\">\n",
       "      <th></th>\n",
       "      <th>test</th>\n",
       "    </tr>\n",
       "  </thead>\n",
       "  <tbody>\n",
       "    <tr>\n",
       "      <th>0</th>\n",
       "      <td>a</td>\n",
       "    </tr>\n",
       "    <tr>\n",
       "      <th>1</th>\n",
       "      <td>b</td>\n",
       "    </tr>\n",
       "    <tr>\n",
       "      <th>2</th>\n",
       "      <td>c</td>\n",
       "    </tr>\n",
       "  </tbody>\n",
       "</table>\n",
       "</div>"
      ],
      "text/plain": [
       "  test\n",
       "0    a\n",
       "1    b\n",
       "2    c"
      ]
     },
     "execution_count": 25,
     "metadata": {},
     "output_type": "execute_result"
    }
   ],
   "source": [
    "df"
   ]
  },
  {
   "cell_type": "code",
   "execution_count": 41,
   "id": "1de54bab-7df3-4216-bbd2-141e1f33c399",
   "metadata": {},
   "outputs": [],
   "source": [
    "list_company_name_account_anonym = ['test']"
   ]
  },
  {
   "cell_type": "code",
   "execution_count": 42,
   "id": "4c52fb3a-d17c-44af-82f0-3a760bc6dc29",
   "metadata": {},
   "outputs": [],
   "source": [
    "anonymised_dict_account = [{'col': list_company_name_account_anonym, 'category': 'company'}]"
   ]
  },
  {
   "cell_type": "code",
   "execution_count": 43,
   "id": "9cb0606d-d28e-49f9-8f34-345f9efbc486",
   "metadata": {},
   "outputs": [
    {
     "data": {
      "text/plain": [
       "[{'col': ['test'], 'category': 'company'}]"
      ]
     },
     "execution_count": 43,
     "metadata": {},
     "output_type": "execute_result"
    }
   ],
   "source": [
    "anonymised_dict_account"
   ]
  },
  {
   "cell_type": "code",
   "execution_count": 44,
   "id": "65860a86-ad13-46fc-a95e-2e19174b0df1",
   "metadata": {},
   "outputs": [
    {
     "data": {
      "text/plain": [
       "['test']"
      ]
     },
     "execution_count": 44,
     "metadata": {},
     "output_type": "execute_result"
    }
   ],
   "source": [
    "anonymised_dict_account[0]['col']"
   ]
  },
  {
   "cell_type": "code",
   "execution_count": 45,
   "id": "e0de5bb2-617e-4d08-91cf-a33fdf2a4a66",
   "metadata": {},
   "outputs": [
    {
     "name": "stdout",
     "output_type": "stream",
     "text": [
      "{'col': ['test'], 'category': 'company'}\n",
      "col: test\n"
     ]
    }
   ],
   "source": [
    "for anonymised_dict in anonymised_dict_account:\n",
    "    print(anonymised_dict)\n",
    "    for col in anonymised_dict['col']:\n",
    "        print('col:', col)"
   ]
  },
  {
   "cell_type": "code",
   "execution_count": 46,
   "id": "29c63446-b75e-4fbb-a7cd-983a10bcacf6",
   "metadata": {},
   "outputs": [
    {
     "data": {
      "text/plain": [
       "(  test\n",
       " 0    a\n",
       " 1    b\n",
       " 2    c,\n",
       " [{'col': ['test'], 'category': 'company'}])"
      ]
     },
     "execution_count": 46,
     "metadata": {},
     "output_type": "execute_result"
    }
   ],
   "source": [
    "(df, anonymised_dict_account)"
   ]
  },
  {
   "cell_type": "code",
   "execution_count": 52,
   "id": "aba5db54-3b11-4b98-805f-f4f88a997c0d",
   "metadata": {},
   "outputs": [
    {
     "name": "stdout",
     "output_type": "stream",
     "text": [
      "anonymised_dict: {'col': ['test'], 'category': 'company'}\n",
      "col: test\n",
      "category company\n",
      "category company\n",
      "category company\n"
     ]
    }
   ],
   "source": [
    "mapping = {}\n",
    "for anonymised_dict in anonymised_dict_account:\n",
    "    print('anonymised_dict:', anonymised_dict)\n",
    "    category = anonymised_dict['category']\n",
    "    for col in anonymised_dict['col']:\n",
    "        print('col:', col)\n",
    "        faker_unique_list = []\n",
    "        unique_value = list((df[col]).unique())\n",
    "        faker = Faker()\n",
    "        faker.add_provider(CustomProvider())\n",
    "        for i in range(len(unique_value)): \n",
    "            print('category', category)\n",
    "            faker_unique_list.append(getattr(faker.unique, category)())\n",
    "        mapping_anonymised = dict(zip(unique_value, faker_unique_list))\n",
    "        mapping[col] = mapping_anonymised\n",
    "        df[col] = df[col].map(mapping_anonymised)\n"
   ]
  },
  {
   "cell_type": "code",
   "execution_count": 53,
   "id": "b94d8eaa-3aff-49f1-b6ff-65be13556a72",
   "metadata": {},
   "outputs": [
    {
     "name": "stdout",
     "output_type": "stream",
     "text": [
      "category\n",
      "category\n",
      "category\n"
     ]
    }
   ],
   "source": [
    "for i in range(len(unique_value)): \n",
    "    print('category')\n",
    "    faker_unique_list.append(getattr(faker.unique, 'company')())"
   ]
  },
  {
   "cell_type": "code",
   "execution_count": 56,
   "id": "b4662659-1df2-4bc8-853a-e19c81783586",
   "metadata": {},
   "outputs": [],
   "source": []
  },
  {
   "cell_type": "code",
   "execution_count": 95,
   "id": "349cb03f-aac7-43c4-9f0a-54810ece2166",
   "metadata": {},
   "outputs": [],
   "source": [
    "column_name = 'num_compte'\n",
    "category_name = 'num_compte'\n",
    "type = 'string'"
   ]
  },
  {
   "cell_type": "code",
   "execution_count": 106,
   "id": "f43e4469-09b0-43af-b7f9-0cea0b1b3d3d",
   "metadata": {},
   "outputs": [],
   "source": [
    "num_rows = 10000\n",
    "schema_list = [\n",
    "{'column': 'name', 'category': 'name', 'type': type, 'unique': False},\n",
    "{'column': 'address', 'category': 'address', 'type': type, 'unique': False},\n",
    "{'column': 'job', 'category': 'job', 'type': type, 'unique': False},\n",
    "{'column': 'company', 'category': 'company', 'type': type, 'unique': False},\n",
    "]"
   ]
  },
  {
   "cell_type": "code",
   "execution_count": 107,
   "id": "8e712e34-299e-49e0-a5f1-85e3834c5089",
   "metadata": {},
   "outputs": [],
   "source": [
    "class FakeGenerator():\n",
    "    def __init__(self, num_rows, schema_list):\n",
    "        self.num_rows : int = num_rows\n",
    "        self.schema_list : list = schema_list\n",
    "\n",
    "    def generate_fake_data(self):\n",
    "        data = pd.DataFrame()\n",
    "        for schema in self.schema_list:\n",
    "            faker_list = []\n",
    "            faker = Faker()\n",
    "            faker.add_provider(CustomProvider())\n",
    "            for i in range(self.num_rows): \n",
    "                faker_list.append(getattr(faker, schema['category'])())\n",
    "            data[schema['column']] = faker_list\n",
    "        return data"
   ]
  },
  {
   "cell_type": "code",
   "execution_count": 108,
   "id": "5d57cbb0-2c01-41c6-8694-f601ef5f19ef",
   "metadata": {},
   "outputs": [
    {
     "data": {
      "text/html": [
       "<div>\n",
       "<style scoped>\n",
       "    .dataframe tbody tr th:only-of-type {\n",
       "        vertical-align: middle;\n",
       "    }\n",
       "\n",
       "    .dataframe tbody tr th {\n",
       "        vertical-align: top;\n",
       "    }\n",
       "\n",
       "    .dataframe thead th {\n",
       "        text-align: right;\n",
       "    }\n",
       "</style>\n",
       "<table border=\"1\" class=\"dataframe\">\n",
       "  <thead>\n",
       "    <tr style=\"text-align: right;\">\n",
       "      <th></th>\n",
       "      <th>name</th>\n",
       "      <th>address</th>\n",
       "      <th>job</th>\n",
       "      <th>company</th>\n",
       "    </tr>\n",
       "  </thead>\n",
       "  <tbody>\n",
       "    <tr>\n",
       "      <th>0</th>\n",
       "      <td>Samuel Mitchell</td>\n",
       "      <td>Unit 4924 Box 5871\\nDPO AA 08650</td>\n",
       "      <td>Chief Technology Officer</td>\n",
       "      <td>Floyd Group</td>\n",
       "    </tr>\n",
       "    <tr>\n",
       "      <th>1</th>\n",
       "      <td>Ashley Dawson</td>\n",
       "      <td>5521 Rachel Lodge\\nAnthonyland, WY 15988</td>\n",
       "      <td>Local government officer</td>\n",
       "      <td>Huber, Brown and Coleman</td>\n",
       "    </tr>\n",
       "    <tr>\n",
       "      <th>2</th>\n",
       "      <td>Shawn Small</td>\n",
       "      <td>2943 Justin Squares\\nRebeccafurt, KS 51686</td>\n",
       "      <td>Biomedical engineer</td>\n",
       "      <td>Lambert PLC</td>\n",
       "    </tr>\n",
       "    <tr>\n",
       "      <th>3</th>\n",
       "      <td>Dr. Raymond Sawyer</td>\n",
       "      <td>386 Stephen Forge\\nJacksonton, CO 68946</td>\n",
       "      <td>Higher education careers adviser</td>\n",
       "      <td>Reed, Snow and Lawson</td>\n",
       "    </tr>\n",
       "    <tr>\n",
       "      <th>4</th>\n",
       "      <td>Arthur Ellis</td>\n",
       "      <td>44998 Dana Brooks\\nMathewsview, SC 28353</td>\n",
       "      <td>Clinical molecular geneticist</td>\n",
       "      <td>Wallace Ltd</td>\n",
       "    </tr>\n",
       "    <tr>\n",
       "      <th>...</th>\n",
       "      <td>...</td>\n",
       "      <td>...</td>\n",
       "      <td>...</td>\n",
       "      <td>...</td>\n",
       "    </tr>\n",
       "    <tr>\n",
       "      <th>9995</th>\n",
       "      <td>Melinda Curry</td>\n",
       "      <td>9056 Melinda Pass Suite 263\\nWest Brenda, CT 5...</td>\n",
       "      <td>Volunteer coordinator</td>\n",
       "      <td>Lawson Ltd</td>\n",
       "    </tr>\n",
       "    <tr>\n",
       "      <th>9996</th>\n",
       "      <td>Kathryn Lane</td>\n",
       "      <td>571 Hunt Spring\\nVeronicaton, FL 30654</td>\n",
       "      <td>Accommodation manager</td>\n",
       "      <td>Logan, Fisher and Ross</td>\n",
       "    </tr>\n",
       "    <tr>\n",
       "      <th>9997</th>\n",
       "      <td>Andrea Herman</td>\n",
       "      <td>USNS Morris\\nFPO AA 03873</td>\n",
       "      <td>Textile designer</td>\n",
       "      <td>Decker, Madden and Hamilton</td>\n",
       "    </tr>\n",
       "    <tr>\n",
       "      <th>9998</th>\n",
       "      <td>Mary Glass</td>\n",
       "      <td>556 Kelley Roads Apt. 262\\nPort Melissaland, S...</td>\n",
       "      <td>Teacher, adult education</td>\n",
       "      <td>Martinez-Ali</td>\n",
       "    </tr>\n",
       "    <tr>\n",
       "      <th>9999</th>\n",
       "      <td>Lisa Baker</td>\n",
       "      <td>PSC 8181, Box 9404\\nAPO AA 94244</td>\n",
       "      <td>Horticultural consultant</td>\n",
       "      <td>Smith and Sons</td>\n",
       "    </tr>\n",
       "  </tbody>\n",
       "</table>\n",
       "<p>10000 rows × 4 columns</p>\n",
       "</div>"
      ],
      "text/plain": [
       "                    name                                            address  \\\n",
       "0        Samuel Mitchell                   Unit 4924 Box 5871\\nDPO AA 08650   \n",
       "1          Ashley Dawson           5521 Rachel Lodge\\nAnthonyland, WY 15988   \n",
       "2            Shawn Small         2943 Justin Squares\\nRebeccafurt, KS 51686   \n",
       "3     Dr. Raymond Sawyer            386 Stephen Forge\\nJacksonton, CO 68946   \n",
       "4           Arthur Ellis           44998 Dana Brooks\\nMathewsview, SC 28353   \n",
       "...                  ...                                                ...   \n",
       "9995       Melinda Curry  9056 Melinda Pass Suite 263\\nWest Brenda, CT 5...   \n",
       "9996        Kathryn Lane             571 Hunt Spring\\nVeronicaton, FL 30654   \n",
       "9997       Andrea Herman                          USNS Morris\\nFPO AA 03873   \n",
       "9998          Mary Glass  556 Kelley Roads Apt. 262\\nPort Melissaland, S...   \n",
       "9999          Lisa Baker                   PSC 8181, Box 9404\\nAPO AA 94244   \n",
       "\n",
       "                                   job                      company  \n",
       "0             Chief Technology Officer                  Floyd Group  \n",
       "1             Local government officer     Huber, Brown and Coleman  \n",
       "2                  Biomedical engineer                  Lambert PLC  \n",
       "3     Higher education careers adviser        Reed, Snow and Lawson  \n",
       "4        Clinical molecular geneticist                  Wallace Ltd  \n",
       "...                                ...                          ...  \n",
       "9995             Volunteer coordinator                   Lawson Ltd  \n",
       "9996             Accommodation manager       Logan, Fisher and Ross  \n",
       "9997                  Textile designer  Decker, Madden and Hamilton  \n",
       "9998          Teacher, adult education                 Martinez-Ali  \n",
       "9999          Horticultural consultant               Smith and Sons  \n",
       "\n",
       "[10000 rows x 4 columns]"
      ]
     },
     "execution_count": 108,
     "metadata": {},
     "output_type": "execute_result"
    }
   ],
   "source": [
    "FakeGenerator(num_rows, schema_list).generate_fake_data()"
   ]
  },
  {
   "cell_type": "markdown",
   "id": "26d1cc02-b486-4d88-942a-30063687b3d5",
   "metadata": {},
   "source": [
    "### List of Category Faker \n",
    "- Faire une liste des categories existantes dans Faker "
   ]
  },
  {
   "cell_type": "markdown",
   "id": "8a355f24-84fb-4d22-92a3-512bb247c6c1",
   "metadata": {},
   "source": [
    "**address**\n",
    "- address\n",
    "- building_number\n",
    "- city\n",
    "- city_suffix\n",
    "- country\n",
    "- country_code\n",
    "- current_country\n",
    "- current_country_code()\n",
    "- postcode\n",
    "- street_address\n",
    "- street_name\n",
    "- street_suffix\n",
    "\n",
    "**bank**\n",
    "- aba\n",
    "- bank_country\n",
    "- bban\n",
    "- iban\n",
    "- swift\n",
    "- swift8\n",
    "- swift11\n",
    "\n",
    "**company**\n",
    "- bs\n",
    "- catch_phrase\n",
    "- company\n",
    "- company_suffix\n",
    "\n",
    "**currency:**\n",
    "- cryptocurrency\n",
    "- cryptocurrency_code\n",
    "- cryptocurrency_name\n",
    "- currency_code\n",
    "- currency_name\n",
    "- currency_symbol\n",
    "- pricetag\n",
    "\n",
    "**phone_number:**\n",
    "- country_calling_code\n",
    "- msisdn\n",
    "- phone_number\n",
    "\n",
    "**person:**\n",
    "- first_name\n",
    "- first_name_female\n",
    "- first_name_male\n",
    "- language_name\n",
    "- last_name\n",
    "- name\n",
    "- suffix\n",
    "- job\n",
    "\n",
    "**geo:**\n",
    "- coordinate\n",
    "- latitude\n",
    "- latlng\n",
    "- longitude\n",
    "\n",
    "**credit_card_number:**\n",
    "- credit_card_expire\n",
    "- credit_card_full\n",
    "- credit_card_number\n",
    "- credit_card_provider\n",
    "- credit_card_security_code"
   ]
  },
  {
   "cell_type": "markdown",
   "id": "56afcf85-e8a7-4dfd-b170-285193570f9c",
   "metadata": {},
   "source": [
    "### Unique Value "
   ]
  },
  {
   "cell_type": "code",
   "execution_count": 62,
   "id": "d8015d3e-348d-4743-a2c9-43d4a640612b",
   "metadata": {},
   "outputs": [
    {
     "data": {
      "text/plain": [
       "'Miranda King'"
      ]
     },
     "execution_count": 62,
     "metadata": {},
     "output_type": "execute_result"
    }
   ],
   "source": [
    "getattr(faker.unique, 'name')()"
   ]
  },
  {
   "cell_type": "code",
   "execution_count": null,
   "id": "9c4cbbac-f860-4b10-bb8e-c59dae20e709",
   "metadata": {},
   "outputs": [],
   "source": []
  }
 ],
 "metadata": {
  "kernelspec": {
   "display_name": "fake_generator",
   "language": "python",
   "name": "fake_generator"
  },
  "language_info": {
   "codemirror_mode": {
    "name": "ipython",
    "version": 3
   },
   "file_extension": ".py",
   "mimetype": "text/x-python",
   "name": "python",
   "nbconvert_exporter": "python",
   "pygments_lexer": "ipython3",
   "version": "3.9.18"
  }
 },
 "nbformat": 4,
 "nbformat_minor": 5
}
